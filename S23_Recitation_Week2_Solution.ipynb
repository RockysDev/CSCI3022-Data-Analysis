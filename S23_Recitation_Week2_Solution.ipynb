{
 "cells": [
  {
   "cell_type": "markdown",
   "id": "7ece3b2a",
   "metadata": {},
   "source": [
    "# CSCI 3155 Spring 2023\n",
    "# Recitation Week 2\n",
    "### Ref: Course Notes notebook 3 \"Recursion\"\n",
    "\n",
    "In this recitation, we will focus on writing functions using recursion and tail recursions. We will also learn how to convert a non-recursive code to recursive version."
   ]
  },
  {
   "cell_type": "markdown",
   "id": "f246cafe",
   "metadata": {},
   "source": [
    "# Exercise 1\n",
    "\n",
    "Let's write a recursive function to count all the zeros in a given list"
   ]
  },
  {
   "cell_type": "markdown",
   "id": "282cd4ba-a781-4cdb-8a9a-9ef01ba6efab",
   "metadata": {},
   "source": [
    "## Example  1(A) : Writing a recursive function"
   ]
  },
  {
   "cell_type": "code",
   "execution_count": 1,
   "id": "27be24ee",
   "metadata": {},
   "outputs": [
    {
     "data": {
      "text/plain": [
       "defined \u001b[32mfunction\u001b[39m \u001b[36mcountZeros\u001b[39m"
      ]
     },
     "execution_count": 1,
     "metadata": {},
     "output_type": "execute_result"
    }
   ],
   "source": [
    "def countZeros(lst: List[Int]): Int = {\n",
    "    if (lst.length == 0) { 0 }\n",
    "    else{\n",
    "        if (lst.head == 0) {\n",
    "            1 + countZeros(lst.tail)\n",
    "        } else {\n",
    "            countZeros(lst.tail)\n",
    "        }\n",
    "    }\n",
    "}"
   ]
  },
  {
   "cell_type": "code",
   "execution_count": 2,
   "id": "53a7ed6c",
   "metadata": {},
   "outputs": [],
   "source": [
    "assert(countZeros(List(0, 1, 0, 1, 0, 1)) == 3)\n",
    "assert(countZeros(List(0)) == 1)\n",
    "assert(countZeros(List(2, 3, 4, -2)) == 0)\n",
    "assert(countZeros(List(0, 0, 0, 0, 0, 0)) == 6)\n",
    "assert(countZeros(List(5, 1, 2, 3, 4, 5, 0, 1, 5)) == 1)\n",
    "assert(countZeros(List()) == 0)"
   ]
  },
  {
   "cell_type": "markdown",
   "id": "6f1e7d64-464f-4775-8bf2-5263b24b140b",
   "metadata": {},
   "source": [
    "## The magic of Tail Recursion\n",
    "\n",
    "We have discussed tail recursion in lecture, let's discuss the why and how some more."
   ]
  },
  {
   "cell_type": "markdown",
   "id": "e9930372-ad31-4ce4-8ba2-333f363cb9b6",
   "metadata": {},
   "source": [
    "## Example 1(B) : A tail-recursive function"
   ]
  },
  {
   "cell_type": "code",
   "execution_count": 3,
   "id": "4e00daf0",
   "metadata": {},
   "outputs": [
    {
     "data": {
      "text/plain": [
       "\u001b[32mimport \u001b[39m\u001b[36mscala.annotation.tailrec\n",
       "\n",
       "\u001b[39m\n",
       "defined \u001b[32mfunction\u001b[39m \u001b[36mcountZerosTail\u001b[39m"
      ]
     },
     "execution_count": 3,
     "metadata": {},
     "output_type": "execute_result"
    }
   ],
   "source": [
    "import scala.annotation.tailrec\n",
    "\n",
    "@tailrec\n",
    "//BEGIN SOLUTION\n",
    "final def countZerosTail(lst: List[Int], acc:Int = 0): Int = {\n",
    "    if (lst.length == 0){ \n",
    "        acc\n",
    "    } else {\n",
    "        countZerosTail(lst.tail, (if (lst.head == 0) acc + 1 else acc) )\n",
    "    }\n",
    "}\n",
    "//END SOLUTION"
   ]
  },
  {
   "cell_type": "code",
   "execution_count": 4,
   "id": "b2fda881",
   "metadata": {},
   "outputs": [],
   "source": [
    "assert(countZerosTail(List(0, 1, 0, 1, 0, 1)) == 3)\n",
    "assert(countZerosTail(List(0)) == 1)\n",
    "assert(countZerosTail(List(2, 3, 4, -2)) == 0)\n",
    "assert(countZerosTail(List(0, 0, 0, 0, 0, 0)) == 6)\n",
    "assert(countZerosTail(List(5, 1, 2, 3, 4, 5, 0, 1, 5)) == 1)\n",
    "assert(countZerosTail(List()) == 0)"
   ]
  },
  {
   "cell_type": "markdown",
   "id": "d1fbd839",
   "metadata": {},
   "source": [
    "## Exercise 2\n",
    "\n",
    "Complete below function which calculates sum of first 'N' natural numbers. Natural numbers start from 1,2...N."
   ]
  },
  {
   "cell_type": "code",
   "execution_count": 5,
   "id": "d6a98ea8-512e-42c3-b741-de9cb55cc22e",
   "metadata": {},
   "outputs": [
    {
     "data": {
      "text/plain": [
       "defined \u001b[32mfunction\u001b[39m \u001b[36msumOfNumbers\u001b[39m"
      ]
     },
     "execution_count": 5,
     "metadata": {},
     "output_type": "execute_result"
    }
   ],
   "source": [
    "def sumOfNumbers(n:Int) : Int = {\n",
    "    if (n == 1) {\n",
    "        1\n",
    "    } else {\n",
    "        n + sumOfNumbers(n-1)\n",
    "    }\n",
    "}"
   ]
  },
  {
   "cell_type": "code",
   "execution_count": 6,
   "id": "d657f6f7-b2eb-44f5-b242-b1d6ba91b9ea",
   "metadata": {},
   "outputs": [
    {
     "data": {
      "text/plain": [
       "\u001b[36mn1\u001b[39m: \u001b[32mInt\u001b[39m = \u001b[32m10\u001b[39m\n",
       "\u001b[36mn2\u001b[39m: \u001b[32mInt\u001b[39m = \u001b[32m5\u001b[39m"
      ]
     },
     "execution_count": 6,
     "metadata": {},
     "output_type": "execute_result"
    }
   ],
   "source": [
    "val n1 = 10\n",
    "val n2 = 5\n",
    "assert(sumOfNumbers(n1)==55, \"Failed to return 55\") // 55 is the correct answer\n",
    "assert(sumOfNumbers(n2)==15, \"Failed to return 15\") // 15 is the correct answer"
   ]
  },
  {
   "cell_type": "code",
   "execution_count": 7,
   "id": "3f6ef647",
   "metadata": {},
   "outputs": [
    {
     "data": {
      "text/plain": [
       "\u001b[32mimport \u001b[39m\u001b[36mscala.annotation.tailrec\n",
       "\n",
       "\u001b[39m\n",
       "defined \u001b[32mfunction\u001b[39m \u001b[36msumOfNumbersTailRec\u001b[39m"
      ]
     },
     "execution_count": 7,
     "metadata": {},
     "output_type": "execute_result"
    }
   ],
   "source": [
    "import scala.annotation.tailrec\n",
    "\n",
    "@tailrec\n",
    "def sumOfNumbersTailRec(n: Int, accum:Int = 0): Int = {\n",
    "    // Complete the missing portions in this function\n",
    "    if (n <= 0) { accum }\n",
    "    else {\n",
    "        sumOfNumbersTailRec(n-1, accum+n)\n",
    "    }\n",
    "}"
   ]
  },
  {
   "cell_type": "code",
   "execution_count": 8,
   "id": "5b354021",
   "metadata": {},
   "outputs": [
    {
     "data": {
      "text/plain": [
       "\u001b[36mn1\u001b[39m: \u001b[32mInt\u001b[39m = \u001b[32m10\u001b[39m\n",
       "\u001b[36mn2\u001b[39m: \u001b[32mInt\u001b[39m = \u001b[32m5\u001b[39m"
      ]
     },
     "execution_count": 8,
     "metadata": {},
     "output_type": "execute_result"
    }
   ],
   "source": [
    "val n1 = 10\n",
    "val n2 = 5\n",
    "assert(sumOfNumbersTailRec(n1)==55, \"Failed to return 55\") // 55 is the correct answer\n",
    "assert(sumOfNumbersTailRec(n2)==15, \"Failed to return 15\") // 15 is the correct answer"
   ]
  },
  {
   "cell_type": "markdown",
   "id": "5f5cccc0",
   "metadata": {},
   "source": [
    "## Exercise 3\n",
    "\n",
    "You are given a non recursive function to check if a string is a palindrome. Convert this function to it's tail recursive version."
   ]
  },
  {
   "cell_type": "code",
   "execution_count": 9,
   "id": "a0798941",
   "metadata": {},
   "outputs": [
    {
     "data": {
      "text/plain": [
       "defined \u001b[32mfunction\u001b[39m \u001b[36mcheckPalindrome\u001b[39m"
      ]
     },
     "execution_count": 9,
     "metadata": {},
     "output_type": "execute_result"
    }
   ],
   "source": [
    "def checkPalindrome(s: String): Boolean = {\n",
    "    var start: Int = 0\n",
    "    var end: Int = s.length-1\n",
    "    \n",
    "    while (start < end){\n",
    "        if (s(start) != s(end)) return false\n",
    "        start += 1\n",
    "        end -= 1\n",
    "    }\n",
    "    return true\n",
    "}"
   ]
  },
  {
   "cell_type": "code",
   "execution_count": 10,
   "id": "85602d3b",
   "metadata": {},
   "outputs": [
    {
     "data": {
      "text/plain": [
       "\u001b[36ms1\u001b[39m: \u001b[32mString\u001b[39m = \u001b[32m\"abba\"\u001b[39m\n",
       "\u001b[36ms2\u001b[39m: \u001b[32mString\u001b[39m = \u001b[32m\"scala\"\u001b[39m\n",
       "\u001b[36ms3\u001b[39m: \u001b[32mString\u001b[39m = \u001b[32m\"malayalam\"\u001b[39m\n",
       "\u001b[36ms4\u001b[39m: \u001b[32mString\u001b[39m = \u001b[32m\"aabb\"\u001b[39m"
      ]
     },
     "execution_count": 10,
     "metadata": {},
     "output_type": "execute_result"
    }
   ],
   "source": [
    "val s1 = \"abba\"; val s2 = \"scala\"; val s3 = \"malayalam\"; val s4 = \"aabb\"\n",
    "assert(checkPalindrome(s1)==true, s\"Failed. $s1 is a palindrome\") // Palindrome\n",
    "assert(checkPalindrome(s2)==false, s\"Failed. $s1 is not a palindrome\") // not palindrome\n",
    "assert(checkPalindrome(s3)==true, s\"Failed. $s3 is a palindrome\") // palindrome\n",
    "assert(checkPalindrome(s4)==false, s\"Failed. $s1 is not a palindrome\") // not palindrome"
   ]
  },
  {
   "cell_type": "code",
   "execution_count": 11,
   "id": "89109fa4",
   "metadata": {},
   "outputs": [
    {
     "data": {
      "text/plain": [
       "\u001b[32mimport \u001b[39m\u001b[36mscala.annotation.tailrec\n",
       "\n",
       "\u001b[39m\n",
       "defined \u001b[32mfunction\u001b[39m \u001b[36mcheckPalindromeTailRec\u001b[39m"
      ]
     },
     "execution_count": 11,
     "metadata": {},
     "output_type": "execute_result"
    }
   ],
   "source": [
    "// Complete this tail recursive function\n",
    "import scala.annotation.tailrec\n",
    "\n",
    "@tailrec\n",
    "def checkPalindromeTailRec(s:String, start:Int, end:Int): Boolean = {\n",
    "    \n",
    "    // Write your code here\n",
    "    if (start >= end) { true }\n",
    "    else if (s(start) == s(end)) {\n",
    "        checkPalindromeTailRec(s, start+1, end-1)\n",
    "    } else { false }\n",
    "}"
   ]
  },
  {
   "cell_type": "code",
   "execution_count": 12,
   "id": "3f6b8fc6",
   "metadata": {},
   "outputs": [
    {
     "data": {
      "text/plain": [
       "\u001b[36ms1\u001b[39m: \u001b[32mString\u001b[39m = \u001b[32m\"abba\"\u001b[39m\n",
       "\u001b[36ms2\u001b[39m: \u001b[32mString\u001b[39m = \u001b[32m\"scala\"\u001b[39m\n",
       "\u001b[36ms3\u001b[39m: \u001b[32mString\u001b[39m = \u001b[32m\"malayalam\"\u001b[39m\n",
       "\u001b[36ms4\u001b[39m: \u001b[32mString\u001b[39m = \u001b[32m\"aabb\"\u001b[39m"
      ]
     },
     "execution_count": 12,
     "metadata": {},
     "output_type": "execute_result"
    }
   ],
   "source": [
    "val s1 = \"abba\"; val s2 = \"scala\"; val s3 = \"malayalam\"; val s4 = \"aabb\"\n",
    "assert(checkPalindromeTailRec(s1, 0, s1.length - 1)==true, s\"Failed. $s1 is a palindrome\") // Palindrome\n",
    "assert(checkPalindromeTailRec(s2, 0, s2.length - 1)==false, s\"Failed. $s2 is not a palindrome\") // not palindrome\n",
    "assert(checkPalindromeTailRec(s3, 0, s3.length - 1)==true, s\"Failed. $s3 is a palindrome\") // palindrome\n",
    "assert(checkPalindromeTailRec(s4, 0, s4.length - 1)==false, s\"Failed. $s4 is not a palindrome\") // not palindrome"
   ]
  },
  {
   "cell_type": "markdown",
   "id": "3db58fd5",
   "metadata": {},
   "source": [
    "### That's all for today folks!!"
   ]
  }
 ],
 "metadata": {
  "kernelspec": {
   "display_name": "Scala",
   "language": "scala",
   "name": "scala"
  },
  "language_info": {
   "codemirror_mode": "text/x-scala",
   "file_extension": ".scala",
   "mimetype": "text/x-scala",
   "name": "scala",
   "nbconvert_exporter": "script",
   "version": "2.12.8"
  }
 },
 "nbformat": 4,
 "nbformat_minor": 5
}
