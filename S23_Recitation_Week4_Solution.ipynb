{
 "cells": [
  {
   "attachments": {},
   "cell_type": "markdown",
   "metadata": {
    "nbgrader": {
     "checksum": "f4e5d8a3de0e64c6c546534a57ea82ec",
     "grade": false,
     "grade_id": "cell-0bf4d589af6d5f9c",
     "locked": true,
     "schema_version": 1,
     "solution": false
    }
   },
   "source": [
    "# CSCI 3155 Spring 2023\n",
    "# Recitation Week 4\n",
    "This week we will be reviewing case definition, pattern matching and introducing a new concept, inference rules."
   ]
  },
  {
   "attachments": {},
   "cell_type": "markdown",
   "metadata": {},
   "source": [
    "# Exercise 1\n",
    "\n",
    "We have defined a grammar for arithmetic expressions in the lecture. \n",
    "\n",
    "$$\\begin{array}{rcl}\n",
    "\\mathbf{Expr} & \\Rightarrow & Const(\\mathbf{Double}) \\\\\n",
    "& | & Ident(\\mathbf{String}) \\\\ \n",
    "& | & Plus (\\mathbf{Expr}, \\mathbf{Expr}) \\\\\n",
    "& | & Minus (\\mathbf{Expr}, \\mathbf{Expr}) \\\\\n",
    "& | & Mult(\\mathbf{Expr}, \\mathbf{Expr}) \\\\\n",
    "& | & Div(\\mathbf{Expr}, \\mathbf{Expr}) \\\\\n",
    "& | & Exp(\\mathbf{Expr}) \\\\\n",
    "& | & Sin(\\mathbf{Expr}) \\\\\n",
    "& | & Cos(\\mathbf{Expr}) \\\\\n",
    "\\end{array}$$"
   ]
  },
  {
   "cell_type": "code",
   "execution_count": 1,
   "metadata": {},
   "outputs": [
    {
     "data": {
      "text/plain": [
       "defined \u001b[32mtrait\u001b[39m \u001b[36mExpr\u001b[39m\n",
       "defined \u001b[32mclass\u001b[39m \u001b[36mConst\u001b[39m\n",
       "defined \u001b[32mclass\u001b[39m \u001b[36mIdent\u001b[39m\n",
       "defined \u001b[32mclass\u001b[39m \u001b[36mPlus\u001b[39m\n",
       "defined \u001b[32mclass\u001b[39m \u001b[36mMinus\u001b[39m\n",
       "defined \u001b[32mclass\u001b[39m \u001b[36mMult\u001b[39m\n",
       "defined \u001b[32mclass\u001b[39m \u001b[36mDiv\u001b[39m\n",
       "defined \u001b[32mclass\u001b[39m \u001b[36mExp\u001b[39m\n",
       "defined \u001b[32mclass\u001b[39m \u001b[36mSin\u001b[39m\n",
       "defined \u001b[32mclass\u001b[39m \u001b[36mCos\u001b[39m"
      ]
     },
     "execution_count": 1,
     "metadata": {},
     "output_type": "execute_result"
    }
   ],
   "source": [
    "sealed trait Expr\n",
    "\n",
    "// Const-rule\n",
    "case class Const(v: Double) extends Expr\n",
    "case class Ident(x: String) extends Expr\n",
    "\n",
    "// Binary-op-rule\n",
    "case class Plus(e1: Expr, e2: Expr) extends Expr\n",
    "case class Minus(e1: Expr, e2: Expr) extends Expr\n",
    "case class Mult(e1: Expr, e2: Expr) extends Expr\n",
    "case class Div(e1: Expr, e2: Expr) extends Expr\n",
    "\n",
    "// Unary-op-rule\n",
    "case class Exp(e: Expr) extends Expr\n",
    "case class Sin(e: Expr) extends Expr\n",
    "case class Cos(e: Expr) extends Expr"
   ]
  },
  {
   "cell_type": "code",
   "execution_count": 2,
   "metadata": {},
   "outputs": [
    {
     "data": {
      "text/plain": [
       "\u001b[36mc\u001b[39m: \u001b[32mConst\u001b[39m = \u001b[33mConst\u001b[39m(v = \u001b[32m1.0\u001b[39m)\n",
       "\u001b[36mx\u001b[39m: \u001b[32mIdent\u001b[39m = \u001b[33mIdent\u001b[39m(x = \u001b[32m\"x\"\u001b[39m)\n",
       "\u001b[36me1\u001b[39m: \u001b[32mPlus\u001b[39m = \u001b[33mPlus\u001b[39m(e1 = \u001b[33mConst\u001b[39m(v = \u001b[32m1.0\u001b[39m), e2 = \u001b[33mConst\u001b[39m(v = \u001b[32m2.0\u001b[39m))\n",
       "\u001b[36me2\u001b[39m: \u001b[32mMinus\u001b[39m = \u001b[33mMinus\u001b[39m(e1 = \u001b[33mIdent\u001b[39m(x = \u001b[32m\"x\"\u001b[39m), e2 = \u001b[33mIdent\u001b[39m(x = \u001b[32m\"y\"\u001b[39m))\n",
       "\u001b[36me3\u001b[39m: \u001b[32mMult\u001b[39m = \u001b[33mMult\u001b[39m(e1 = \u001b[33mIdent\u001b[39m(x = \u001b[32m\"x\"\u001b[39m), e2 = \u001b[33mConst\u001b[39m(v = \u001b[32m1.0\u001b[39m))\n",
       "\u001b[36me4\u001b[39m: \u001b[32mDiv\u001b[39m = \u001b[33mDiv\u001b[39m(e1 = \u001b[33mConst\u001b[39m(v = \u001b[32m1.0\u001b[39m), e2 = \u001b[33mIdent\u001b[39m(x = \u001b[32m\"x\"\u001b[39m))\n",
       "\u001b[36me5\u001b[39m: \u001b[32mExp\u001b[39m = \u001b[33mExp\u001b[39m(e = \u001b[33mPlus\u001b[39m(e1 = \u001b[33mConst\u001b[39m(v = \u001b[32m1.0\u001b[39m), e2 = \u001b[33mConst\u001b[39m(v = \u001b[32m2.0\u001b[39m)))\n",
       "\u001b[36me6\u001b[39m: \u001b[32mSin\u001b[39m = \u001b[33mSin\u001b[39m(e = \u001b[33mMinus\u001b[39m(e1 = \u001b[33mIdent\u001b[39m(x = \u001b[32m\"x\"\u001b[39m), e2 = \u001b[33mIdent\u001b[39m(x = \u001b[32m\"y\"\u001b[39m)))\n",
       "\u001b[36me7\u001b[39m: \u001b[32mCos\u001b[39m = \u001b[33mCos\u001b[39m(e = \u001b[33mMult\u001b[39m(e1 = \u001b[33mIdent\u001b[39m(x = \u001b[32m\"x\"\u001b[39m), e2 = \u001b[33mConst\u001b[39m(v = \u001b[32m1.0\u001b[39m)))"
      ]
     },
     "execution_count": 2,
     "metadata": {},
     "output_type": "execute_result"
    }
   ],
   "source": [
    "val c = Const(1)\n",
    "val x = Ident(\"x\")\n",
    "\n",
    "val e1 = Plus(Const(1), Const(2))\n",
    "val e2 = Minus(Ident(\"x\"), Ident(\"y\"))\n",
    "val e3 = Mult(Ident(\"x\"), Const(1))\n",
    "val e4 = Div(Const(1), Ident(\"x\"))\n",
    "\n",
    "val e5 = Exp(e1)\n",
    "val e6 = Sin(e2)\n",
    "val e7 = Cos(e3)"
   ]
  },
  {
   "attachments": {},
   "cell_type": "markdown",
   "metadata": {},
   "source": [
    "# Review inference rules\n",
    "\n",
    "In this recitation, we will focus on inference rules.\n",
    "\n",
    "\n",
    "Inference rules are a logic form that takes premises and returns conclusions. They generally have the standard form of the following:\n",
    "\n",
    "$$\\begin{array}{c}\n",
    "preconditions\\\\\n",
    "\\hline\n",
    "postconditions\\\\\n",
    "\\end{array}\\ (\\text{Rule Name}) \\leftarrow\n",
    "\\begin{array}{c}\n",
    "\\text{ Must check if these conditions satisfy } \\\\\n",
    "\\hline\n",
    "\\text{ Return postconditions } \\\\\n",
    "\\end{array}\n",
    "$$\n",
    "\n",
    "You can read them as \"if all the preconditions are satisfied, then the postconditions.\""
   ]
  },
  {
   "attachments": {},
   "cell_type": "markdown",
   "metadata": {},
   "source": [
    "# Example: Check if an expression is \"well-formed\"\n",
    "\n",
    "We call an expression ***\"well-formed\"*** if all variables that appear in it are defind before being used.\n",
    "\n",
    "The inference rules tell us how to implement a function that checks well-formedness. As implementors, we read the rules backwards. For example, $\\text{(binary-op-rule)}$ tells us that, in order to check well-formedness of the expression `Mult(e1, e2)` given a sequence $l$ of defined variables, we need to\n",
    "1. Check if `e1` is well-formed\n",
    "2. Check if `e2` is well-formed under a sequence of defined variables $x :: l$"
   ]
  },
  {
   "attachments": {},
   "cell_type": "markdown",
   "metadata": {},
   "source": [
    "$\\fbox{WellFormed(e, l) = b}$\n",
    "\n",
    "$$ \\begin{array}{c}\n",
    "\\\\\n",
    "\\hline\n",
    "WellFormed(\\texttt{Const(f)}, l) = true \\\\\n",
    "\\end{array} \\text{(const-rule)} $$\n",
    "\n",
    "$$\\begin{array}{c}\n",
    "(x \\text{ is in } l) = b\\\\\n",
    "\\hline\n",
    "WellFormed(\\texttt{Ident(x)}, l) = b\\\\\n",
    "\\end{array} \\text{(ident-rule)} $$\n",
    "\n",
    "$$ \\begin{array}{c}\n",
    "WellFormed(\\texttt{e1}, l)=b_1 \\;\\;\\; WellFormed(\\texttt{e2}, l)=b_2\\;\\;\\; T \\in \\{ \\texttt{Plus}, \\texttt{Minus}, \\texttt{Mult}, \\texttt{Div}\\} \\\\\n",
    "\\hline\n",
    "WellFormed(\\texttt{T(e1, e2)}, l) = b_1 \\ \\&\\&\\  b_2\\\\\n",
    "\\end{array} \\text{(binary-op-rule)} $$\n",
    "\n",
    "$$ \\begin{array}{c}\n",
    "WellFormed(\\texttt{e1}, l)=b \\;\\;\\; T \\in \\{\\texttt{Exp}, \\texttt{Sin}, \\texttt{Cos}\\} \\\\\n",
    "\\hline\n",
    "WellFormed(\\texttt{T(e1)}, l) = b \\\\\n",
    "\\end{array} \\text{(unary-op-rule)} $$"
   ]
  },
  {
   "cell_type": "code",
   "execution_count": 3,
   "metadata": {},
   "outputs": [
    {
     "data": {
      "text/plain": [
       "defined \u001b[32mfunction\u001b[39m \u001b[36misWellFormed\u001b[39m"
      ]
     },
     "execution_count": 3,
     "metadata": {},
     "output_type": "execute_result"
    }
   ],
   "source": [
    "def isWellFormed(e: Expr, seq: List[String]): Boolean = {\n",
    "    \n",
    "    def isWellFormed_unaryOp(e: Expr) = {\n",
    "        isWellFormed(e, seq)\n",
    "    }\n",
    "\n",
    "    def isWellFormed_binOp(e1: Expr, e2: Expr) = {\n",
    "        // mutual recursion, see https://en.wikipedia.org/wiki/Mutual_recursion\n",
    "        // preconditions && preconditions == postconditions\n",
    "        isWellFormed(e1, seq) && isWellFormed(e2, seq)\n",
    "    }\n",
    "\n",
    "    e match {\n",
    "        // const-rule        \n",
    "        case Const(_)  => true                  // evaluate preconditions and return postconditions\n",
    "        case Ident(x) => seq.contains(x)        // evaluate preconditions and return postconditions\n",
    "        \n",
    "        // unary operations\n",
    "        case Exp(e) => isWellFormed_unaryOp(e)\n",
    "        case Sin(e) => isWellFormed_unaryOp(e)\n",
    "        case Cos(e) => isWellFormed_unaryOp(e)\n",
    "\n",
    "        // binary operations\n",
    "        case Plus(e1, e2) => isWellFormed_binOp(e1, e2)\n",
    "        case Minus(e1, e2) => isWellFormed_binOp(e1, e2)\n",
    "        case Mult(e1, e2) => isWellFormed_binOp(e1, e2)\n",
    "        case Div(e1, e2) => isWellFormed_binOp(e1, e2)\n",
    "    }\n",
    "}\n"
   ]
  },
  {
   "cell_type": "code",
   "execution_count": 4,
   "metadata": {},
   "outputs": [],
   "source": [
    "assert(isWellFormed(Const(1.0), List()), \"Test 1\")\n",
    "assert(isWellFormed(Plus(Const(1.0), Ident(\"z\")), List(\"z\")), \"Test 2\")\n",
    "assert(isWellFormed(Plus(Sin(Const(0.5)), Const(2.9)), List()), \"Test 3\")\n",
    "assert(!isWellFormed(Plus(Sin(Const(0.5)), Ident(\"x\")), List()), \"Test 4\")"
   ]
  },
  {
   "attachments": {},
   "cell_type": "markdown",
   "metadata": {},
   "source": [
    "# Excercise 2: Implement a derivative function"
   ]
  },
  {
   "attachments": {},
   "cell_type": "markdown",
   "metadata": {},
   "source": [
    "#### A few Differentiation INFERENCE Rules\n",
    "\n",
    "A rule for CONSTANTS :\n",
    "\n",
    "$$\\frac{dc}{dx} = 0, c \\in \\mathbb{R}$$\n",
    "\n",
    "$$\\begin{array}{c}\n",
    "\\\\\n",
    "\\hline \n",
    "\\text{derivative}( \\texttt{Const(f)} , x) = \\texttt{Const(0.0)} \\\\\n",
    "\\end{array} \\mathbf{(Constant)}$$      \n",
    "\n",
    "A rule for IDENTIFIERS:\n",
    "\n",
    "$$\\frac{dx}{dx} = 1, \\frac{dy}{dx} = 0 \\text{ for } y \\not= x$$\n",
    "\n",
    "$$\\begin{array}{c}\n",
    "\\\\\n",
    "\\hline \n",
    "\\text{derivative}( \\texttt{Ident(s)} , x) = \\left\\{ \\begin{array}{ll} \\texttt{Const(1.0)} & x == s \\\\\n",
    "\\texttt{Const(0.0)} & \\text{otherwise} \\end{array} \\right.\\\\\n",
    "\\end{array} \\mathbf{(Identifier)}  \\;\\;\\;\n",
    "$$\n",
    "\n",
    "A rule for ADDITION :\n",
    "\n",
    "$$\\frac{d}{dx} (e_1 + e_2) = \\frac{de_1}{dx} + \\frac{de_2}{dx}$$\n",
    "\n",
    "$$ \\begin{array}{c}\n",
    "\\text{derivative}(\\texttt{e1}, x) = \\texttt{f1},\\;\\;\\text{derivative}(\\texttt{e2}, x) = \\texttt{f2}\\\\\n",
    "\\hline\n",
    "\\text{derivative}(\\texttt{Plus(e1, e2)}, x) = \\texttt{Plus(f1, f2)} \\\\\n",
    "\\end{array} \\mathbf{(Plus)} $$\n",
    "\n",
    "A rule for MULTIPLICATION: \n",
    "\n",
    "$$\\frac{d}{dx} (e_1 e_2) = e_2 \\frac{de_1}{dx} + e_1 \\frac{de_2}{dx}$$\n",
    "\n",
    "$$ \\begin{array}{c}\n",
    "\\text{derivative}(\\texttt{e1}, x) = \\texttt{f1},\\;\\;\\text{derivative}(\\texttt{e2}, x) = \\texttt{f2}\\\\\n",
    "\\hline\n",
    "\\text{derivative}(\\texttt{Mult(e1, e2)}, x) = \\texttt{Plus(Mult(f1, e2), Mult(f2, e1))} \\\\\n",
    "\\end{array} \\mathbf{(Mult)} $$\n"
   ]
  },
  {
   "cell_type": "code",
   "execution_count": 5,
   "metadata": {},
   "outputs": [
    {
     "data": {
      "text/plain": [
       "defined \u001b[32mfunction\u001b[39m \u001b[36mderivative\u001b[39m"
      ]
     },
     "execution_count": 5,
     "metadata": {},
     "output_type": "execute_result"
    }
   ],
   "source": [
    "// A Function: derivative\n",
    "def derivative(e: Expr, x: String): Expr =\n",
    "    e match  {\n",
    "        case Const(_) => Const(0)\n",
    "        case Ident(s) => if (s == x) { Const(1.0)} else {Const(0.0)}\n",
    "        // BEGIN SOLUTION\n",
    "        case Plus(e1, e2) => Plus(derivative(e1, x), derivative(e2, x))\n",
    "        case Mult(e1, e2) => Plus( Mult(derivative(e1, x), e2), Mult(derivative(e2, x), e1))\n",
    "        // END SOLUTION\n",
    "    }"
   ]
  },
  {
   "cell_type": "code",
   "execution_count": 6,
   "metadata": {},
   "outputs": [
    {
     "name": "stdout",
     "output_type": "stream",
     "text": [
      "Input Expr: Plus(Const(50.0),Ident(x))\n",
      "Output Expr: Plus(Const(0.0),Const(1.0))\n"
     ]
    },
    {
     "data": {
      "text/plain": [
       "\u001b[36mInputExpression\u001b[39m: \u001b[32mPlus\u001b[39m = \u001b[33mPlus\u001b[39m(e1 = \u001b[33mConst\u001b[39m(v = \u001b[32m50.0\u001b[39m), e2 = \u001b[33mIdent\u001b[39m(x = \u001b[32m\"x\"\u001b[39m))\n",
       "\u001b[36mOutputExpression\u001b[39m: \u001b[32mExpr\u001b[39m = \u001b[33mPlus\u001b[39m(e1 = \u001b[33mConst\u001b[39m(v = \u001b[32m0.0\u001b[39m), e2 = \u001b[33mConst\u001b[39m(v = \u001b[32m1.0\u001b[39m))"
      ]
     },
     "execution_count": 6,
     "metadata": {},
     "output_type": "execute_result"
    }
   ],
   "source": [
    "val InputExpression = Plus(Const(50), Ident(\"x\"))\n",
    "val OutputExpression = derivative(InputExpression, \"x\")\n",
    "\n",
    "assert(OutputExpression == Plus(Const(0), Const(1)), \"Test\")\n",
    "println(\"Input Expr: \" + InputExpression)\n",
    "println(\"Output Expr: \" + OutputExpression)"
   ]
  },
  {
   "cell_type": "code",
   "execution_count": 7,
   "metadata": {},
   "outputs": [
    {
     "name": "stdout",
     "output_type": "stream",
     "text": [
      "Input Expr: Mult(Const(50.0),Ident(x))\n",
      "Output Expr: Plus(Mult(Const(0.0),Ident(x)),Mult(Const(1.0),Const(50.0)))\n"
     ]
    },
    {
     "data": {
      "text/plain": [
       "\u001b[36mInputExpression\u001b[39m: \u001b[32mMult\u001b[39m = \u001b[33mMult\u001b[39m(e1 = \u001b[33mConst\u001b[39m(v = \u001b[32m50.0\u001b[39m), e2 = \u001b[33mIdent\u001b[39m(x = \u001b[32m\"x\"\u001b[39m))\n",
       "\u001b[36mOutputExpression\u001b[39m: \u001b[32mExpr\u001b[39m = \u001b[33mPlus\u001b[39m(\n",
       "  e1 = \u001b[33mMult\u001b[39m(e1 = \u001b[33mConst\u001b[39m(v = \u001b[32m0.0\u001b[39m), e2 = \u001b[33mIdent\u001b[39m(x = \u001b[32m\"x\"\u001b[39m)),\n",
       "  e2 = \u001b[33mMult\u001b[39m(e1 = \u001b[33mConst\u001b[39m(v = \u001b[32m1.0\u001b[39m), e2 = \u001b[33mConst\u001b[39m(v = \u001b[32m50.0\u001b[39m))\n",
       ")"
      ]
     },
     "execution_count": 7,
     "metadata": {},
     "output_type": "execute_result"
    }
   ],
   "source": [
    "val InputExpression = Mult(Const(50), Ident(\"x\"))\n",
    "val OutputExpression = derivative(InputExpression, \"x\")\n",
    "\n",
    "assert(OutputExpression == Plus(Mult(Const(0), Ident(\"x\")), Mult(Const(1), Const(50))), \"Test\")\n",
    "println(\"Input Expr: \" + InputExpression)\n",
    "println(\"Output Expr: \" + OutputExpression)\n"
   ]
  },
  {
   "cell_type": "markdown",
   "metadata": {},
   "source": [
    "### That's all folks!"
   ]
  }
 ],
 "metadata": {
  "celltoolbar": "Edit Metadata",
  "kernelspec": {
   "display_name": "Scala",
   "language": "scala",
   "name": "scala"
  },
  "language_info": {
   "codemirror_mode": "text/x-scala",
   "file_extension": ".sc",
   "mimetype": "text/x-scala",
   "name": "scala",
   "nbconvert_exporter": "script",
   "version": "2.13.10"
  }
 },
 "nbformat": 4,
 "nbformat_minor": 2
}
