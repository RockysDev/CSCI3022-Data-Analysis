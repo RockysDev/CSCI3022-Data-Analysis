{
 "cells": [
  {
   "attachments": {},
   "cell_type": "markdown",
   "metadata": {
    "nbgrader": {
     "checksum": "f4e5d8a3de0e64c6c546534a57ea82ec",
     "grade": false,
     "grade_id": "cell-0bf4d589af6d5f9c",
     "locked": true,
     "schema_version": 1,
     "solution": false
    }
   },
   "source": [
    "# CSCI 3155 Spring 2023\n",
    "# Recitation Week 4\n",
    "This week we will be reviewing case definition, pattern matching and introducing a new concept, inference rules."
   ]
  },
  {
   "attachments": {},
   "cell_type": "markdown",
   "metadata": {},
   "source": [
    "# Exercise 1\n",
    "\n",
    "We have defined a grammar for arithmetic expressions in the lecture. \n",
    "\n",
    "$$\\begin{array}{rcl}\n",
    "\\mathbf{Expr} & \\Rightarrow & Const(\\mathbf{Double}) \\\\\n",
    "& | & Ident(\\mathbf{String}) \\\\ \n",
    "& | & Plus (\\mathbf{Expr}, \\mathbf{Expr}) \\\\\n",
    "& | & Minus (\\mathbf{Expr}, \\mathbf{Expr}) \\\\\n",
    "& | & Mult(\\mathbf{Expr}, \\mathbf{Expr}) \\\\\n",
    "& | & Div(\\mathbf{Expr}, \\mathbf{Expr}) \\\\\n",
    "& | & Exp(\\mathbf{Expr}) \\\\\n",
    "& | & Sin(\\mathbf{Expr}) \\\\\n",
    "& | & Cos(\\mathbf{Expr}) \\\\\n",
    "\\end{array}$$"
   ]
  },
  {
   "cell_type": "code",
   "execution_count": null,
   "metadata": {},
   "outputs": [],
   "source": [
    "sealed trait Expr\n",
    "\n",
    "// Const-rule\n",
    "case class Const(v: Double) extends Expr\n",
    "case class Ident(x: String) extends Expr\n",
    "\n",
    "// Binary-op-rule\n",
    "// BEGIN SOLUTION\n",
    "???\n",
    "// END SOLUTION\n",
    "\n",
    "// Unary-op-rule\n",
    "// BEGIN SOLUTION\n",
    "???\n",
    "// END SOLUTION"
   ]
  },
  {
   "cell_type": "code",
   "execution_count": null,
   "metadata": {},
   "outputs": [],
   "source": [
    "val c = Const(1)\n",
    "val x = Ident(\"x\")\n",
    "\n",
    "val e1 = Plus(Const(1), Const(2))\n",
    "val e2 = Minus(Ident(\"x\"), Ident(\"y\"))\n",
    "val e3 = Mult(Ident(\"x\"), Const(1))\n",
    "val e4 = Div(Const(1), Ident(\"x\"))\n",
    "\n",
    "val e5 = Exp(e1)\n",
    "val e6 = Sin(e2)\n",
    "val e7 = Cos(e3)"
   ]
  },
  {
   "attachments": {},
   "cell_type": "markdown",
   "metadata": {},
   "source": [
    "# Review inference rules\n",
    "\n",
    "In this recitation, we will focus on inference rules.\n",
    "\n",
    "\n",
    "Inference rules are a logic form that takes premises and returns conclusions. They generally have the standard form of the following:\n",
    "\n",
    "$$\\begin{array}{c}\n",
    "preconditions\\\\\n",
    "\\hline\n",
    "postconditions\\\\\n",
    "\\end{array}\\ (\\text{Rule Name}) \\leftarrow\n",
    "\\begin{array}{c}\n",
    "\\text{ Must check if these conditions satisfy } \\\\\n",
    "\\hline\n",
    "\\text{ Return postconditions } \\\\\n",
    "\\end{array}\n",
    "$$\n",
    "\n",
    "You can read them as \"if all the preconditions are satisfied, then the postconditions.\""
   ]
  },
  {
   "attachments": {},
   "cell_type": "markdown",
   "metadata": {},
   "source": [
    "# Example: Check if an expression is \"well-formed\"\n",
    "\n",
    "We call an expression ***\"well-formed\"*** if all variables that appear in it are defind before being used.\n",
    "\n",
    "The inference rules tell us how to implement a function that checks well-formedness. As implementors, we read the rules backwards. For example, $\\text{(binary-op-rule)}$ tells us that, in order to check well-formedness of the expression `Mult(e1, e2)` given a sequence $l$ of defined variables, we need to\n",
    "1. Check if `e1` is well-formed\n",
    "2. Check if `e2` is well-formed under a sequence of defined variables $x :: l$"
   ]
  },
  {
   "attachments": {},
   "cell_type": "markdown",
   "metadata": {},
   "source": [
    "$\\fbox{WellFormed(e, l) = b}$\n",
    "\n",
    "$$ \\begin{array}{c}\n",
    "\\\\\n",
    "\\hline\n",
    "WellFormed(\\texttt{Const(f)}, l) = true \\\\\n",
    "\\end{array} \\text{(const-rule)} $$\n",
    "\n",
    "$$\\begin{array}{c}\n",
    "(x \\text{ is in } l) = b\\\\\n",
    "\\hline\n",
    "WellFormed(\\texttt{Ident(x)}, l) = b\\\\\n",
    "\\end{array} \\text{(ident-rule)} $$\n",
    "\n",
    "$$ \\begin{array}{c}\n",
    "WellFormed(\\texttt{e1}, l)=b_1 \\;\\;\\; WellFormed(\\texttt{e2}, l)=b_2\\;\\;\\; T \\in \\{ \\texttt{Plus}, \\texttt{Minus}, \\texttt{Mult}, \\texttt{Div}\\} \\\\\n",
    "\\hline\n",
    "WellFormed(\\texttt{T(e1, e2)}, l) = b_1 \\ \\&\\&\\  b_2\\\\\n",
    "\\end{array} \\text{(binary-op-rule)} $$\n",
    "\n",
    "$$ \\begin{array}{c}\n",
    "WellFormed(\\texttt{e1}, l)=b \\;\\;\\; T \\in \\{\\texttt{Exp}, \\texttt{Sin}, \\texttt{Cos}\\} \\\\\n",
    "\\hline\n",
    "WellFormed(\\texttt{T(e1)}, l) = b \\\\\n",
    "\\end{array} \\text{(unary-op-rule)} $$"
   ]
  },
  {
   "cell_type": "code",
   "execution_count": null,
   "metadata": {},
   "outputs": [],
   "source": [
    "def isWellFormed(e: Expr, seq: List[String]): Boolean = {\n",
    "    \n",
    "    def isWellFormed_unaryOp(e: Expr) = {\n",
    "        // BEGIN SOLUTION\n",
    "        ???\n",
    "        // END SOLUTION\n",
    "    }\n",
    "\n",
    "    def isWellFormed_binOp(e1: Expr, e2: Expr) = {\n",
    "        // mutual recursion, see https://en.wikipedia.org/wiki/Mutual_recursion\n",
    "        // BEGIN SOLUTION\n",
    "        ???\n",
    "        // END SOLUTION\n",
    "    }\n",
    "\n",
    "    e match {\n",
    "        // const-rule        \n",
    "        case Const(_)  => true                  // evaluate preconditions and return postconditions\n",
    "        case Ident(x) => seq.contains(x)        // evaluate preconditions and return postconditions\n",
    "        \n",
    "        // unary operations\n",
    "        case Exp(e) => ???\n",
    "        case Sin(e) => ???\n",
    "        case Cos(e) => ???\n",
    "\n",
    "        // binary operations\n",
    "        case Plus(e1, e2) => ???\n",
    "        case Minus(e1, e2) => ???\n",
    "        case Mult(e1, e2) => ???\n",
    "        case Div(e1, e2) => ???\n",
    "    }\n",
    "}\n"
   ]
  },
  {
   "cell_type": "code",
   "execution_count": null,
   "metadata": {},
   "outputs": [],
   "source": [
    "assert(isWellFormed(Const(1.0), List()), \"Test 1\")\n",
    "assert(isWellFormed(Plus(Const(1.0), Ident(\"z\")), List(\"z\")), \"Test 2\")\n",
    "assert(isWellFormed(Plus(Sin(Const(0.5)), Const(2.9)), List()), \"Test 3\")\n",
    "assert(!isWellFormed(Plus(Sin(Const(0.5)), Ident(\"x\")), List()), \"Test 4\")"
   ]
  },
  {
   "attachments": {},
   "cell_type": "markdown",
   "metadata": {},
   "source": [
    "# Excercise 2: Implement a derivative function"
   ]
  },
  {
   "attachments": {},
   "cell_type": "markdown",
   "metadata": {},
   "source": [
    "#### A few Differentiation INFERENCE Rules\n",
    "\n",
    "A rule for CONSTANTS :\n",
    "\n",
    "$$\\frac{dc}{dx} = 0, c \\in \\mathbb{R}$$\n",
    "\n",
    "$$\\begin{array}{c}\n",
    "\\\\\n",
    "\\hline \n",
    "\\text{derivative}( \\texttt{Const(f)} , x) = \\texttt{Const(0.0)} \\\\\n",
    "\\end{array} \\mathbf{(Constant)}$$      \n",
    "\n",
    "A rule for IDENTIFIERS:\n",
    "\n",
    "$$\\frac{dx}{dx} = 1, \\frac{dy}{dx} = 0 \\text{ for } y \\not= x$$\n",
    "\n",
    "$$\\begin{array}{c}\n",
    "\\\\\n",
    "\\hline \n",
    "\\text{derivative}( \\texttt{Ident(s)} , x) = \\left\\{ \\begin{array}{ll} \\texttt{Const(1.0)} & x == s \\\\\n",
    "\\texttt{Const(0.0)} & \\text{otherwise} \\end{array} \\right.\\\\\n",
    "\\end{array} \\mathbf{(Identifier)}  \\;\\;\\;\n",
    "$$\n",
    "\n",
    "A rule for ADDITION :\n",
    "\n",
    "$$\\frac{d}{dx} (e_1 + e_2) = \\frac{de_1}{dx} + \\frac{de_2}{dx}$$\n",
    "\n",
    "$$ \\begin{array}{c}\n",
    "\\text{derivative}(\\texttt{e1}, x) = \\texttt{f1},\\;\\;\\text{derivative}(\\texttt{e2}, x) = \\texttt{f2}\\\\\n",
    "\\hline\n",
    "\\text{derivative}(\\texttt{Plus(e1, e2)}, x) = \\texttt{Plus(f1, f2)} \\\\\n",
    "\\end{array} \\mathbf{(Plus)} $$\n",
    "\n",
    "A rule for MULTIPLICATION: \n",
    "\n",
    "$$\\frac{d}{dx} (e_1 e_2) = e_2 \\frac{de_1}{dx} + e_1 \\frac{de_2}{dx}$$\n",
    "\n",
    "$$ \\begin{array}{c}\n",
    "\\text{derivative}(\\texttt{e1}, x) = \\texttt{f1},\\;\\;\\text{derivative}(\\texttt{e2}, x) = \\texttt{f2}\\\\\n",
    "\\hline\n",
    "\\text{derivative}(\\texttt{Mult(e1, e2)}, x) = \\texttt{Plus(Mult(f1, e2), Mult(f2, e1))} \\\\\n",
    "\\end{array} \\mathbf{(Mult)} $$\n"
   ]
  },
  {
   "cell_type": "code",
   "execution_count": null,
   "metadata": {},
   "outputs": [],
   "source": [
    "// A Function: derivative\n",
    "def derivative(e: Expr, x: String): Expr =\n",
    "    e match  {\n",
    "        case Const(_) => Const(0)\n",
    "        case Ident(s) => if (s == x) { Const(1.0)} else {Const(0.0)}\n",
    "        // BEGIN SOLUTION\n",
    "        ???\n",
    "        // END SOLUTION\n",
    "    }"
   ]
  },
  {
   "cell_type": "code",
   "execution_count": null,
   "metadata": {},
   "outputs": [],
   "source": [
    "val InputExpression = Plus(Const(50), Ident(\"x\"))\n",
    "val OutputExpression = derivative(InputExpression, \"x\")\n",
    "\n",
    "assert(OutputExpression == Plus(Const(0), Const(1)), \"Test\")\n",
    "println(\"Input Expr: \" + InputExpression)\n",
    "println(\"Output Expr: \" + OutputExpression)"
   ]
  },
  {
   "cell_type": "code",
   "execution_count": null,
   "metadata": {},
   "outputs": [],
   "source": [
    "val InputExpression = Mult(Const(50), Ident(\"x\"))\n",
    "val OutputExpression = derivative(InputExpression, \"x\")\n",
    "\n",
    "assert(OutputExpression == Plus(Mult(Const(0), Ident(\"x\")), Mult(Const(1), Const(50))), \"Test\")\n",
    "println(\"Input Expr: \" + InputExpression)\n",
    "println(\"Output Expr: \" + OutputExpression)\n"
   ]
  },
  {
   "cell_type": "markdown",
   "metadata": {},
   "source": [
    "### That's all folks!"
   ]
  }
 ],
 "metadata": {
  "celltoolbar": "Edit Metadata",
  "kernelspec": {
   "display_name": "Scala",
   "language": "scala",
   "name": "scala"
  },
  "language_info": {
   "codemirror_mode": "text/x-scala",
   "file_extension": ".sc",
   "mimetype": "text/x-scala",
   "name": "scala",
   "nbconvert_exporter": "script",
   "version": "2.13.10"
  }
 },
 "nbformat": 4,
 "nbformat_minor": 2
}
