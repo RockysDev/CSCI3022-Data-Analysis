{
 "cells": [
  {
   "cell_type": "markdown",
   "metadata": {},
   "source": [
    "# Spring 2023 Recitation Week 5"
   ]
  },
  {
   "cell_type": "markdown",
   "metadata": {},
   "source": [
    "## Agenda\n",
    "* Announcements\n",
    "* Midterm FCQs\n",
    "* Annonymous Funcitons\n",
    "* Higher Ordered Functions\n",
    "* Functors: map, filter, foldLeft"
   ]
  },
  {
   "cell_type": "markdown",
   "metadata": {},
   "source": [
    "## Midterm FCQs\n",
    "* The CSCI department has released midterm FCQs for your recitations\n",
    "* Check your email\n",
    "* Please complete these thoughtfully and provide constructive feedback"
   ]
  },
  {
   "cell_type": "markdown",
   "metadata": {},
   "source": [
    "## Anonymous Functions\n",
    "\n",
    "A function which is not named is known as an anonymous function. An anonymous function provides a lightweight function definition. It is useful when we want to create an inline function. Some Features of it-\n",
    "\n",
    "- You can write anonymous functions as little snippets of code\n",
    "- You can use them with methods on the List class like map and filter\n",
    "- With these little snippets of code and powerful methods like those, you can create a lot of functionality with very little code\n",
    "- \"=>\" is known as a transformer. The transformer is used to transform the parameter-list of the left-hand side of the symbol into a new result using the expression present on the right-hand side.\n",
    "\n",
    "Refer to this Scala Doc - https://docs.scala-lang.org/overviews/scala-book/anonymous-functions.html"
   ]
  },
  {
   "cell_type": "code",
   "execution_count": 1,
   "metadata": {},
   "outputs": [
    {
     "name": "stdout",
     "output_type": "stream",
     "text": [
      "It Worked!\n"
     ]
    },
    {
     "data": {
      "text/plain": [
       "defined \u001b[32mfunction\u001b[39m \u001b[36mis_one_imperative\u001b[39m"
      ]
     },
     "execution_count": 1,
     "metadata": {},
     "output_type": "execute_result"
    }
   ],
   "source": [
    "// Returns true if input is 1, false otherwise\n",
    "// A named function\n",
    "def is_one_imperative(x: Int): Boolean = {\n",
    "    (x==1)\n",
    "}\n",
    "assert(is_one_imperative(1))\n",
    "assert(!is_one_imperative(2))\n",
    "println(\"It Worked!\")"
   ]
  },
  {
   "cell_type": "code",
   "execution_count": 2,
   "metadata": {},
   "outputs": [
    {
     "name": "stdout",
     "output_type": "stream",
     "text": [
      "It Worked!\n"
     ]
    },
    {
     "data": {
      "text/plain": [
       "\u001b[36mis_one\u001b[39m: \u001b[32mInt\u001b[39m => \u001b[32mBoolean\u001b[39m = ammonite.$sess.cmd1$Helper$$Lambda$1881/0x0000000800a8c040@6f699db7"
      ]
     },
     "execution_count": 2,
     "metadata": {},
     "output_type": "execute_result"
    }
   ],
   "source": [
    "// An ANONYMOUS FUNCTION\n",
    "// stored to a val named is_one\n",
    "val is_one: (Int) => Boolean = x => (x == 1)\n",
    "assert(is_one(1))\n",
    "assert(!is_one(2))\n",
    "println(\"It Worked!\")"
   ]
  },
  {
   "cell_type": "code",
   "execution_count": 3,
   "metadata": {},
   "outputs": [
    {
     "name": "stdout",
     "output_type": "stream",
     "text": [
      "It Worked!\n"
     ]
    }
   ],
   "source": [
    "// An ANONYMOUS FUNCTION\n",
    "// never stored to a val\n",
    "assert(({ (x: Int) => x == 1 })(1))\n",
    "assert(!({ (x: Int) => x == 1 })(2))\n",
    "println(\"It Worked!\")"
   ]
  },
  {
   "cell_type": "code",
   "execution_count": 4,
   "metadata": {},
   "outputs": [
    {
     "name": "stdout",
     "output_type": "stream",
     "text": [
      "It Worked!\n"
     ]
    },
    {
     "data": {
      "text/plain": [
       "\u001b[36mis_one_pattern\u001b[39m: \u001b[32mInt\u001b[39m => \u001b[32mBoolean\u001b[39m = ammonite.$sess.cmd3$Helper$$Lambda$1925/0x0000000800aba040@7367b3e9"
      ]
     },
     "execution_count": 4,
     "metadata": {},
     "output_type": "execute_result"
    }
   ],
   "source": [
    "// An ANONYMOUS FUNCTION\n",
    "// new: pattern matching\n",
    "// Returns true if input is 1, false otherwise *using patterrn matching*\n",
    "val is_one_pattern: (Int) => Boolean = {\n",
    "    case 1 => true\n",
    "    case _ => false\n",
    "}\n",
    "assert(is_one_pattern(1))\n",
    "assert(!is_one_pattern(2))\n",
    "println(\"It Worked!\")"
   ]
  },
  {
   "cell_type": "code",
   "execution_count": 5,
   "metadata": {},
   "outputs": [
    {
     "name": "stdout",
     "output_type": "stream",
     "text": [
      "It Worked!\n"
     ]
    },
    {
     "data": {
      "text/plain": [
       "\u001b[36madd\u001b[39m: (\u001b[32mInt\u001b[39m, \u001b[32mInt\u001b[39m) => \u001b[32mInt\u001b[39m = ammonite.$sess.cmd4$Helper$$Lambda$1934/0x0000000800abf040@d22c104"
      ]
     },
     "execution_count": 5,
     "metadata": {},
     "output_type": "execute_result"
    }
   ],
   "source": [
    "// An ANONYMOUS FUNCTION\n",
    "// new: multi-parameter\n",
    "// Returns the addition of the inputs\n",
    "val add: (Int, Int) => Int = (x, y) => x + y\n",
    "assert(add(1,2) == 3)\n",
    "\n",
    "assert(({(x: Int, y: Int) => x + y})(1,2) == 3)\n",
    "println(\"It Worked!\")"
   ]
  },
  {
   "cell_type": "markdown",
   "metadata": {},
   "source": [
    "## Higher Order Functions\n",
    "\n",
    "A **higher-order function (HOF)** is often defined as a function that \n",
    "1. takes other functions as input parameters or\n",
    "1. returns a function as a result. \n",
    "\n",
    "In Scala, **HOFs** are possible because functions are first-class values."
   ]
  },
  {
   "cell_type": "code",
   "execution_count": 6,
   "metadata": {},
   "outputs": [
    {
     "data": {
      "text/plain": [
       "defined \u001b[32mfunction\u001b[39m \u001b[36mg\u001b[39m"
      ]
     },
     "execution_count": 6,
     "metadata": {},
     "output_type": "execute_result"
    }
   ],
   "source": [
    "// g takes a function as input\n",
    "def g(y: Int => Int): Int = y(5) * 2"
   ]
  },
  {
   "cell_type": "code",
   "execution_count": 7,
   "metadata": {},
   "outputs": [
    {
     "name": "stdout",
     "output_type": "stream",
     "text": [
      "It Worked!\n"
     ]
    },
    {
     "data": {
      "text/plain": [
       "defined \u001b[32mfunction\u001b[39m \u001b[36mf\u001b[39m"
      ]
     },
     "execution_count": 7,
     "metadata": {},
     "output_type": "execute_result"
    }
   ],
   "source": [
    "def f(x: Int): Int = x + 1\n",
    "assert(g(f) == 12)\n",
    "println(\"It Worked!\")"
   ]
  },
  {
   "cell_type": "code",
   "execution_count": 8,
   "metadata": {},
   "outputs": [
    {
     "name": "stdout",
     "output_type": "stream",
     "text": [
      "It Worked!\n"
     ]
    }
   ],
   "source": [
    "assert(g({ (x: Int) => x + 10 }) == 30)\n",
    "assert(g({ (whatever: Int) => whatever + 10 }) == 30)\n",
    "assert(g({ _ + 10 }) == 30)\n",
    "println(\"It Worked!\")"
   ]
  },
  {
   "cell_type": "code",
   "execution_count": 9,
   "metadata": {},
   "outputs": [
    {
     "name": "stdout",
     "output_type": "stream",
     "text": [
      "It Worked!\n"
     ]
    }
   ],
   "source": [
    "assert(g({ (n: Int) => n * 5 }) == 50)\n",
    "assert(g({ _ * 5 }) == 50)\n",
    "println(\"It Worked!\")"
   ]
  },
  {
   "cell_type": "markdown",
   "metadata": {},
   "source": [
    "# FUNCTORS: map, filter and fold (reduce) Operations\n",
    "\n",
    "We will now replace the use of for-loops/while loops to iterate by operations on data structures such as `map`, `filter` and `fold`.\n",
    "\n",
    "In functional programming style we tend to avoid loops and replace it with tail recursive functions. \n",
    "\n",
    "Another mechanism to avoid loops that we will study now, is that of \"functors\" such as \"**map**\", \"**filter**\" and \"**fold**\". These functors allow us to manipulate Lists of objects.\n",
    "\n",
    "- **map**: apply a function f to every element of a list.\n",
    "- **filter**: keep just those elements of the list that satisfy a \"predicate\"\n",
    "- **fold** (or **reduce**): perform an accumulative operation to every element of the list.\n",
    "\n",
    "Before we look closer at these operations, let us first familiarize ourselves with anonymous functions in scala. Often it is cumbersome to define functions by name where we would like to pass a function. Therefore, we will use \"anonymous\" functions."
   ]
  },
  {
   "cell_type": "markdown",
   "metadata": {},
   "source": [
    "## map\n",
    "\n",
    "The idea of a map operation is to apply a function $f$ to every member of a container (eg., list, array, map, etc.) and return a new container.\n",
    "\n",
    "### Example 1\n",
    "\n",
    "We have a list `List(1, 3, 4, 5, 6, 110, 12, 2)`. We wish to compute the square of each element in the list and make a new list with the result."
   ]
  },
  {
   "cell_type": "code",
   "execution_count": 10,
   "metadata": {},
   "outputs": [
    {
     "data": {
      "text/plain": [
       "\u001b[36ml1\u001b[39m: \u001b[32mList\u001b[39m[\u001b[32mInt\u001b[39m] = \u001b[33mList\u001b[39m(\u001b[32m10\u001b[39m)\n",
       "\u001b[36ml1Squared\u001b[39m: \u001b[32mList\u001b[39m[\u001b[32mInt\u001b[39m] = \u001b[33mList\u001b[39m(\u001b[32m100\u001b[39m)\n",
       "\u001b[36ml2\u001b[39m: \u001b[32mList\u001b[39m[\u001b[32mInt\u001b[39m] = \u001b[33mList\u001b[39m(\u001b[32m1\u001b[39m, \u001b[32m3\u001b[39m, \u001b[32m4\u001b[39m, \u001b[32m5\u001b[39m, \u001b[32m6\u001b[39m, \u001b[32m110\u001b[39m, \u001b[32m12\u001b[39m, \u001b[32m2\u001b[39m)\n",
       "\u001b[36ml2Squared\u001b[39m: \u001b[32mList\u001b[39m[\u001b[32mInt\u001b[39m] = \u001b[33mList\u001b[39m(\u001b[32m1\u001b[39m, \u001b[32m9\u001b[39m, \u001b[32m16\u001b[39m, \u001b[32m25\u001b[39m, \u001b[32m36\u001b[39m, \u001b[32m12100\u001b[39m, \u001b[32m144\u001b[39m, \u001b[32m4\u001b[39m)"
      ]
     },
     "execution_count": 10,
     "metadata": {},
     "output_type": "execute_result"
    }
   ],
   "source": [
    "val l1 = List(10)\n",
    "val l1Squared = List(100)\n",
    "\n",
    "val l2 = List(1, 3, 4, 5, 6, 110, 12, 2)\n",
    "val l2Squared = List(1, 9, 16, 25, 36, 12100, 144, 4)"
   ]
  },
  {
   "cell_type": "code",
   "execution_count": 11,
   "metadata": {},
   "outputs": [
    {
     "name": "stdout",
     "output_type": "stream",
     "text": [
      "It Worked!\n"
     ]
    },
    {
     "data": {
      "text/plain": [
       "defined \u001b[32mfunction\u001b[39m \u001b[36mrecursivelySquareEachElt\u001b[39m"
      ]
     },
     "execution_count": 11,
     "metadata": {},
     "output_type": "execute_result"
    }
   ],
   "source": [
    "def recursivelySquareEachElt(l: List[Int], acc: List[Int] = Nil): List[Int] = {\n",
    "    l match {\n",
    "        case Nil => acc.reverse\n",
    "        case h :: t => recursivelySquareEachElt(t, (h * h) :: acc)\n",
    "    }\n",
    "}\n",
    "assert(l1Squared == recursivelySquareEachElt(l1))\n",
    "assert(l2Squared == recursivelySquareEachElt(l2))\n",
    "println(\"It Worked!\")"
   ]
  },
  {
   "cell_type": "code",
   "execution_count": 12,
   "metadata": {},
   "outputs": [
    {
     "name": "stdout",
     "output_type": "stream",
     "text": [
      "It Worked!\n"
     ]
    },
    {
     "data": {
      "text/plain": [
       "defined \u001b[32mfunction\u001b[39m \u001b[36msquareEachElt\u001b[39m"
      ]
     },
     "execution_count": 12,
     "metadata": {},
     "output_type": "execute_result"
    }
   ],
   "source": [
    "// OUR_SOLUTION_HERE\n",
    "// def squareEachElt(l: List[Int]): List[Int] =  ???\n",
    "def squareEachElt(l: List[Int]): List[Int] =  l.map({ x => x * x })\n",
    "// x => x * x is an anonymous function that squares its arguments.\n",
    "\n",
    "assert(l1Squared == squareEachElt(l1))\n",
    "assert(l2Squared == squareEachElt(l2))\n",
    "println(\"It Worked!\")"
   ]
  },
  {
   "cell_type": "markdown",
   "metadata": {},
   "source": [
    "### Example 2\n",
    "\n",
    "We have a list `List(1, 3, 4, 5, 6, 110, 12, 2)`. We wish to identify which items are even and which items are odd."
   ]
  },
  {
   "cell_type": "code",
   "execution_count": 13,
   "metadata": {},
   "outputs": [
    {
     "data": {
      "text/plain": [
       "\u001b[36ml1\u001b[39m: \u001b[32mList\u001b[39m[\u001b[32mInt\u001b[39m] = \u001b[33mList\u001b[39m(\u001b[32m10\u001b[39m)\n",
       "\u001b[36ml1IsEven\u001b[39m: \u001b[32mList\u001b[39m[\u001b[32mBoolean\u001b[39m] = \u001b[33mList\u001b[39m(\u001b[32mtrue\u001b[39m)\n",
       "\u001b[36ml2\u001b[39m: \u001b[32mList\u001b[39m[\u001b[32mInt\u001b[39m] = \u001b[33mList\u001b[39m(\u001b[32m1\u001b[39m, \u001b[32m3\u001b[39m, \u001b[32m4\u001b[39m, \u001b[32m5\u001b[39m, \u001b[32m6\u001b[39m, \u001b[32m110\u001b[39m, \u001b[32m12\u001b[39m, \u001b[32m2\u001b[39m)\n",
       "\u001b[36ml2IsEven\u001b[39m: \u001b[32mList\u001b[39m[\u001b[32mBoolean\u001b[39m] = \u001b[33mList\u001b[39m(\n",
       "  \u001b[32mfalse\u001b[39m,\n",
       "  \u001b[32mfalse\u001b[39m,\n",
       "  \u001b[32mtrue\u001b[39m,\n",
       "  \u001b[32mfalse\u001b[39m,\n",
       "  \u001b[32mtrue\u001b[39m,\n",
       "  \u001b[32mtrue\u001b[39m,\n",
       "  \u001b[32mtrue\u001b[39m,\n",
       "  \u001b[32mtrue\u001b[39m\n",
       ")"
      ]
     },
     "execution_count": 13,
     "metadata": {},
     "output_type": "execute_result"
    }
   ],
   "source": [
    "val l1 = List(10)\n",
    "val l1IsEven = List(true)\n",
    "\n",
    "val l2 = List(1, 3, 4, 5, 6, 110, 12, 2)\n",
    "val l2IsEven = List(false, false, true, false, true, true, true, true)"
   ]
  },
  {
   "cell_type": "code",
   "execution_count": 14,
   "metadata": {},
   "outputs": [
    {
     "name": "stdout",
     "output_type": "stream",
     "text": [
      "It Worked!\n"
     ]
    },
    {
     "data": {
      "text/plain": [
       "defined \u001b[32mfunction\u001b[39m \u001b[36mstateIfEvenRec\u001b[39m"
      ]
     },
     "execution_count": 14,
     "metadata": {},
     "output_type": "execute_result"
    }
   ],
   "source": [
    "def stateIfEvenRec(l: List[Int], acc: List[Boolean] = Nil): List[Boolean] = {\n",
    "    l match {\n",
    "        case Nil => acc.reverse\n",
    "        case h :: t => stateIfEvenRec(t, (h % 2 == 0) :: acc)\n",
    "    }\n",
    "}\n",
    "assert(l1IsEven == stateIfEvenRec(l1))\n",
    "assert(l2IsEven == stateIfEvenRec(l2))\n",
    "println(\"It Worked!\")"
   ]
  },
  {
   "cell_type": "code",
   "execution_count": 15,
   "metadata": {},
   "outputs": [
    {
     "name": "stdout",
     "output_type": "stream",
     "text": [
      "It Worked!\n"
     ]
    },
    {
     "data": {
      "text/plain": [
       "defined \u001b[32mfunction\u001b[39m \u001b[36mstateIfEven\u001b[39m"
      ]
     },
     "execution_count": 15,
     "metadata": {},
     "output_type": "execute_result"
    }
   ],
   "source": [
    "// OUR_SOLUTION_HERE\n",
    "def stateIfEven(l: List[Int]): List[Boolean] = \n",
    "    l.map({ h => h % 2 == 0 })\n",
    "\n",
    "assert(l1IsEven == stateIfEven(l1))\n",
    "assert(l2IsEven == stateIfEven(l2))\n",
    "println(\"It Worked!\")"
   ]
  },
  {
   "cell_type": "markdown",
   "metadata": {},
   "source": [
    "## filter\n",
    "\n",
    "Just like we have used `map` to apply a function to each element and make a new container, we use `filter` to remove all elements that do not satisfy a predicate.\n",
    "\n",
    "__Predicate__ A predicate is a funciton that takes in a value and returns true/false.\n",
    "\n",
    "`l.filter(c)` filters all those elements that do not satisfy the condition `c` from the list `l`."
   ]
  },
  {
   "cell_type": "markdown",
   "metadata": {},
   "source": [
    "### Example 3\n",
    "\n",
    "We have a list `List(1, 3, 4, 5, 6, 110, 12, 2)`. We wish to only keep items that are even."
   ]
  },
  {
   "cell_type": "code",
   "execution_count": 16,
   "metadata": {},
   "outputs": [
    {
     "data": {
      "text/plain": [
       "\u001b[36ml1\u001b[39m: \u001b[32mList\u001b[39m[\u001b[32mInt\u001b[39m] = \u001b[33mList\u001b[39m(\u001b[32m10\u001b[39m)\n",
       "\u001b[36ml1EvenOnly\u001b[39m: \u001b[32mList\u001b[39m[\u001b[32mInt\u001b[39m] = \u001b[33mList\u001b[39m(\u001b[32m10\u001b[39m)\n",
       "\u001b[36ml2\u001b[39m: \u001b[32mList\u001b[39m[\u001b[32mInt\u001b[39m] = \u001b[33mList\u001b[39m(\u001b[32m1\u001b[39m, \u001b[32m3\u001b[39m, \u001b[32m4\u001b[39m, \u001b[32m5\u001b[39m, \u001b[32m6\u001b[39m, \u001b[32m110\u001b[39m, \u001b[32m12\u001b[39m, \u001b[32m2\u001b[39m)\n",
       "\u001b[36ml2EvenOnly\u001b[39m: \u001b[32mList\u001b[39m[\u001b[32mInt\u001b[39m] = \u001b[33mList\u001b[39m(\u001b[32m4\u001b[39m, \u001b[32m6\u001b[39m, \u001b[32m110\u001b[39m, \u001b[32m12\u001b[39m, \u001b[32m2\u001b[39m)"
      ]
     },
     "execution_count": 16,
     "metadata": {},
     "output_type": "execute_result"
    }
   ],
   "source": [
    "val l1 = List(10)\n",
    "val l1EvenOnly = List(10)\n",
    "\n",
    "val l2 = List(1, 3, 4, 5, 6, 110, 12, 2)\n",
    "val l2EvenOnly = List(4, 6, 110, 12, 2)"
   ]
  },
  {
   "cell_type": "code",
   "execution_count": 17,
   "metadata": {},
   "outputs": [
    {
     "name": "stdout",
     "output_type": "stream",
     "text": [
      "It Worked!\n"
     ]
    },
    {
     "data": {
      "text/plain": [
       "defined \u001b[32mfunction\u001b[39m \u001b[36mretainAllEven\u001b[39m"
      ]
     },
     "execution_count": 17,
     "metadata": {},
     "output_type": "execute_result"
    }
   ],
   "source": [
    "def retainAllEven(l: List[Int], acc: List[Int] = Nil): List[Int] = {\n",
    "    l match {\n",
    "        case Nil => acc.reverse\n",
    "        case h :: t => retainAllEven(t, if (h % 2 == 0)  h :: acc else  acc  )\n",
    "    }\n",
    "}\n",
    "assert(l1EvenOnly == retainAllEven(l1))\n",
    "assert(l2EvenOnly == retainAllEven(l2))\n",
    "println(\"It Worked!\")"
   ]
  },
  {
   "cell_type": "code",
   "execution_count": 18,
   "metadata": {},
   "outputs": [
    {
     "name": "stdout",
     "output_type": "stream",
     "text": [
      "It Worked!\n"
     ]
    },
    {
     "data": {
      "text/plain": [
       "defined \u001b[32mfunction\u001b[39m \u001b[36mretainAllEven\u001b[39m"
      ]
     },
     "execution_count": 18,
     "metadata": {},
     "output_type": "execute_result"
    }
   ],
   "source": [
    "// OUR CODE HERE\n",
    "def retainAllEven(l: List[Int]): List[Int] = {\n",
    "    l.filter( (x: Int) => x % 2 == 0 )\n",
    "}\n",
    "\n",
    "assert(l1EvenOnly == retainAllEven(l1))\n",
    "assert(l2EvenOnly == retainAllEven(l2))\n",
    "println(\"It Worked!\")"
   ]
  },
  {
   "cell_type": "markdown",
   "metadata": {},
   "source": [
    "### Exercise `remove`\n",
    "\n",
    "Using `filter` remove a given letter from a string. Note that String is effectively a List[Char] for our purposes.\n",
    "\n",
    "$\n",
    "\\texttt{remove(\"hello, world!\", 'o')} \\mapsto \\texttt{\"hell, wrld!\"}\\\\\n",
    "\\texttt{remove(\"aaaAAAaaAAaaH!\", 'a')} \\mapsto \\texttt{\"AAAAAH!\"}\n",
    "$"
   ]
  },
  {
   "cell_type": "code",
   "execution_count": 19,
   "metadata": {},
   "outputs": [
    {
     "name": "stdout",
     "output_type": "stream",
     "text": [
      "It Worked!\n",
      "It Worked!\n"
     ]
    },
    {
     "data": {
      "text/plain": [
       "defined \u001b[32mfunction\u001b[39m \u001b[36mremove\u001b[39m\n",
       "\u001b[36ms1\u001b[39m: \u001b[32mString\u001b[39m = \u001b[32m\"hello, world!\"\u001b[39m\n",
       "\u001b[36ms1Without_o\u001b[39m: \u001b[32mString\u001b[39m = \u001b[32m\"hell, wrld!\"\u001b[39m\n",
       "\u001b[36ms2\u001b[39m: \u001b[32mString\u001b[39m = \u001b[32m\"aaaAAAaaAAaaH!\"\u001b[39m\n",
       "\u001b[36ms2Without_a\u001b[39m: \u001b[32mString\u001b[39m = \u001b[32m\"AAAAAH!\"\u001b[39m"
      ]
     },
     "execution_count": 19,
     "metadata": {},
     "output_type": "execute_result"
    }
   ],
   "source": [
    "// YOUR_SOLUTION_HERE\n",
    "// def remove(s : String, c : Char) : String = {\n",
    "//     ???\n",
    "// }\n",
    "def remove(s: String, c: Char): String = {\n",
    "    s filter { _ != c }\n",
    "}\n",
    "\n",
    "val s1 = \"hello, world!\"\n",
    "val s1Without_o = \"hell, wrld!\"\n",
    "assert(s1Without_o == remove(s1, 'o'))\n",
    "println(\"It Worked!\")\n",
    "\n",
    "val s2 = \"aaaAAAaaAAaaH!\"\n",
    "val s2Without_a = \"AAAAAH!\"\n",
    "assert(s2Without_a == remove(s2, 'a'))\n",
    "println(\"It Worked!\")"
   ]
  },
  {
   "cell_type": "markdown",
   "metadata": {},
   "source": [
    "## Fold Operations\n",
    "\n",
    "Fold/reduce operations are useful to gather all data thus far during a computation. Take a list\n",
    "\n",
    "$$[l_1, l_2, \\ldots, l_n] $$.\n",
    "\n",
    "We wish to sum up the numbers in the list.\n",
    "This is achieved in a loop with accumulator.\n",
    "Scan the list from left to right.\n",
    "As you go, accumulate a partial sum.\n",
    "Return the final sum calculated.\n",
    "e.g.\n",
    "~~~\n",
    "acc = 0\n",
    "for each item in List\n",
    "   acc = acc + item\n",
    "return acc\n",
    "~~~\n",
    "\n",
    "We can also do it with fold left operator.\n",
    "\n",
    "As an example consider the sum of the elements of a list above.\n",
    "\n",
    "Fold is a tricky operation to wrap one's head around. A list data structure gives us two versions of fold.\n",
    "\n",
    "### list.foldLeft (startVal) (fun)\n",
    "\n",
    "For list `[l1, l2, l3, ..., ln]` the function call computes the following unrolled function:\n",
    "\n",
    "` fun(.... fun( fun ( fun( startVal, l1), l2), l3), ....., ln)`\n",
    "This is equivalent to the following scala code:\n",
    "\n",
    "~~~\n",
    "var acc = startVal\n",
    "for (lj <- list)\n",
    "   acc =  fun(acc, lj) // Very imp: acc is the first argument and lj is the second argument.\n",
    "~~~"
   ]
  },
  {
   "cell_type": "markdown",
   "metadata": {},
   "source": [
    "### Example 4 `sum`\n",
    "\n",
    "We have a list `List(6, 110, 12)`. We wish to find the sum of this list."
   ]
  },
  {
   "cell_type": "code",
   "execution_count": 20,
   "metadata": {},
   "outputs": [
    {
     "data": {
      "text/plain": [
       "\u001b[36ml1\u001b[39m: \u001b[32mList\u001b[39m[\u001b[32mInt\u001b[39m] = \u001b[33mList\u001b[39m(\u001b[32m10\u001b[39m)\n",
       "\u001b[36ml1Sum\u001b[39m: \u001b[32mInt\u001b[39m = \u001b[32m10\u001b[39m\n",
       "\u001b[36ml2\u001b[39m: \u001b[32mList\u001b[39m[\u001b[32mInt\u001b[39m] = \u001b[33mList\u001b[39m(\u001b[32m6\u001b[39m, \u001b[32m110\u001b[39m, \u001b[32m12\u001b[39m)\n",
       "\u001b[36ml2Sum\u001b[39m: \u001b[32mInt\u001b[39m = \u001b[32m128\u001b[39m"
      ]
     },
     "execution_count": 20,
     "metadata": {},
     "output_type": "execute_result"
    }
   ],
   "source": [
    "val l1 = List(10)\n",
    "val l1Sum = 10\n",
    "\n",
    "val l2 = List(6, 110, 12)\n",
    "val l2Sum = 128"
   ]
  },
  {
   "cell_type": "code",
   "execution_count": 21,
   "metadata": {},
   "outputs": [
    {
     "name": "stdout",
     "output_type": "stream",
     "text": [
      "It Worked!\n"
     ]
    },
    {
     "data": {
      "text/plain": [
       "defined \u001b[32mfunction\u001b[39m \u001b[36msummate\u001b[39m"
      ]
     },
     "execution_count": 21,
     "metadata": {},
     "output_type": "execute_result"
    }
   ],
   "source": [
    "def summate(l: List[Int], acc: Int = 0): Int = {\n",
    "    l match {\n",
    "        case Nil => acc\n",
    "        case h :: t => summate(t, h + acc)\n",
    "    }\n",
    "}\n",
    "assert(l1Sum == summate(l1))\n",
    "assert(l2Sum == summate(l2))\n",
    "println(\"It Worked!\")"
   ]
  },
  {
   "cell_type": "code",
   "execution_count": 22,
   "metadata": {},
   "outputs": [
    {
     "name": "stdout",
     "output_type": "stream",
     "text": [
      "It Worked!\n"
     ]
    },
    {
     "data": {
      "text/plain": [
       "defined \u001b[32mfunction\u001b[39m \u001b[36msummate\u001b[39m"
      ]
     },
     "execution_count": 22,
     "metadata": {},
     "output_type": "execute_result"
    }
   ],
   "source": [
    "// OUR CODE HERE\n",
    "def summate(l: List[Int]): Int = {\n",
    "    l.foldLeft(0){ (sumSoFar, currentVal) => sumSoFar + currentVal }\n",
    "}\n",
    "\n",
    "assert(l1Sum == summate(l1))\n",
    "assert(l2Sum == summate(l2))\n",
    "println(\"It Worked!\")"
   ]
  },
  {
   "cell_type": "markdown",
   "metadata": {},
   "source": [
    "### Exercise `last`\n",
    "\n",
    "Using `foldLeft`, find the last element of a list. If the list is empty, use the default argument provided(See the third example)\n",
    "\n",
    "$\n",
    "\\texttt{last(List(2,4,5,7,9), 0)} \\mapsto \\texttt{9}\\\\\n",
    "\\texttt{last(\"scala is cool\", 'a')} \\mapsto \\texttt{'l'}\\\\\n",
    "\\texttt{last(\"\", 'a')} \\mapsto \\texttt{'a'}\n",
    "$"
   ]
  },
  {
   "cell_type": "code",
   "execution_count": 23,
   "metadata": {},
   "outputs": [
    {
     "name": "stdout",
     "output_type": "stream",
     "text": [
      "It Worked!\n",
      "It Worked!\n",
      "It Worked!\n"
     ]
    },
    {
     "data": {
      "text/plain": [
       "defined \u001b[32mfunction\u001b[39m \u001b[36mlast\u001b[39m\n",
       "\u001b[36mex1\u001b[39m: \u001b[32mList\u001b[39m[\u001b[32mInt\u001b[39m] = \u001b[33mList\u001b[39m(\u001b[32m2\u001b[39m, \u001b[32m4\u001b[39m, \u001b[32m5\u001b[39m, \u001b[32m7\u001b[39m, \u001b[32m9\u001b[39m)\n",
       "\u001b[36mex2\u001b[39m: \u001b[32mList\u001b[39m[\u001b[32mChar\u001b[39m] = \u001b[33mList\u001b[39m(\n",
       "  \u001b[32m's'\u001b[39m,\n",
       "  \u001b[32m'c'\u001b[39m,\n",
       "  \u001b[32m'a'\u001b[39m,\n",
       "  \u001b[32m'l'\u001b[39m,\n",
       "  \u001b[32m'a'\u001b[39m,\n",
       "  \u001b[32m' '\u001b[39m,\n",
       "  \u001b[32m'i'\u001b[39m,\n",
       "  \u001b[32m's'\u001b[39m,\n",
       "  \u001b[32m' '\u001b[39m,\n",
       "  \u001b[32m'c'\u001b[39m,\n",
       "  \u001b[32m'o'\u001b[39m,\n",
       "  \u001b[32m'o'\u001b[39m,\n",
       "  \u001b[32m'l'\u001b[39m\n",
       ")\n",
       "\u001b[36mex3\u001b[39m: \u001b[32mList\u001b[39m[\u001b[32mNothing\u001b[39m] = \u001b[33mList\u001b[39m()"
      ]
     },
     "execution_count": 23,
     "metadata": {},
     "output_type": "execute_result"
    }
   ],
   "source": [
    "// YOUR_SOLUTION_HERE\n",
    "// def last[A](l : List[A], default : A) : A = {\n",
    "//     //Generic functions are functions declared with a generic type parameter\n",
    "//     //[A] is a type parameter to the generic function last\n",
    "//     ???\n",
    "// }\n",
    "def last[A](l : List[A], default : A) : A = {\n",
    "    //Generic functions are functions declared with a generic type parameter\n",
    "    //[A] is a type parameter to the generic function last\n",
    "    l.foldLeft(default)({(mostRecentValue, currentData) => currentData})\n",
    "}\n",
    "\n",
    "val ex1 = List(2,4,5,7,9)\n",
    "assert(last(ex1, 0) == 9)\n",
    "println(\"It Worked!\")\n",
    "\n",
    "val ex2 = \"scala is cool\".toList\n",
    "assert(last(ex2, 'a') == 'l')\n",
    "println(\"It Worked!\")\n",
    "\n",
    "val ex3 = List()\n",
    "assert(last(ex3, 'a') == 'a')\n",
    "println(\"It Worked!\")"
   ]
  },
  {
   "cell_type": "markdown",
   "metadata": {},
   "source": [
    "### Exercise `len`\n",
    "\n",
    "Using `foldLeft`, calculate the length of a list."
   ]
  },
  {
   "cell_type": "code",
   "execution_count": 24,
   "metadata": {},
   "outputs": [
    {
     "name": "stdout",
     "output_type": "stream",
     "text": [
      "It Worked!\n",
      "It Worked!\n",
      "It Worked!\n"
     ]
    },
    {
     "data": {
      "text/plain": [
       "defined \u001b[32mfunction\u001b[39m \u001b[36mlen\u001b[39m\n",
       "\u001b[36mex1\u001b[39m: \u001b[32mList\u001b[39m[\u001b[32mInt\u001b[39m] = \u001b[33mList\u001b[39m(\u001b[32m2\u001b[39m, \u001b[32m4\u001b[39m, \u001b[32m5\u001b[39m, \u001b[32m7\u001b[39m, \u001b[32m9\u001b[39m)\n",
       "\u001b[36mex2\u001b[39m: \u001b[32mList\u001b[39m[\u001b[32mChar\u001b[39m] = \u001b[33mList\u001b[39m(\n",
       "  \u001b[32m's'\u001b[39m,\n",
       "  \u001b[32m'c'\u001b[39m,\n",
       "  \u001b[32m'a'\u001b[39m,\n",
       "  \u001b[32m'l'\u001b[39m,\n",
       "  \u001b[32m'a'\u001b[39m,\n",
       "  \u001b[32m' '\u001b[39m,\n",
       "  \u001b[32m'i'\u001b[39m,\n",
       "  \u001b[32m's'\u001b[39m,\n",
       "  \u001b[32m' '\u001b[39m,\n",
       "  \u001b[32m'c'\u001b[39m,\n",
       "  \u001b[32m'o'\u001b[39m,\n",
       "  \u001b[32m'o'\u001b[39m,\n",
       "  \u001b[32m'l'\u001b[39m\n",
       ")\n",
       "\u001b[36mex3\u001b[39m: \u001b[32mList\u001b[39m[\u001b[32mNothing\u001b[39m] = \u001b[33mList\u001b[39m()"
      ]
     },
     "execution_count": 24,
     "metadata": {},
     "output_type": "execute_result"
    }
   ],
   "source": [
    "// YOUR_SOLUTION_HERE\n",
    "// def len[A](xs : List[A]) : Int = {\n",
    "//     ???\n",
    "// }\n",
    "def len[A](xs : List[A]) : Int = {\n",
    "    xs.foldLeft(0)({\n",
    "        (lengthSoFar, currentData) => 1 + lengthSoFar\n",
    "    })\n",
    "}\n",
    "\n",
    "val ex1 = List(2,4,5,7,9)\n",
    "assert(len(ex1) == 5)\n",
    "println(\"It Worked!\")\n",
    "\n",
    "val ex2 = \"scala is cool\".toList\n",
    "assert(len(ex2) == 13)\n",
    "println(\"It Worked!\")\n",
    "\n",
    "val ex3 = List()\n",
    "assert(len(ex3) == 0)\n",
    "println(\"It Worked!\")"
   ]
  },
  {
   "cell_type": "markdown",
   "metadata": {},
   "source": [
    "# Bonus\n",
    "* Today we looked at Lists, these concepts also apply to other data structures in scala such as Maps (I know, it's overloaded, there is **map** the functor and **Map<K, V>** the collection). You can also define them for custom data structures such as `Expr` or `BinarySearchTree` and more. We call these **`Collections`**\n",
    "* the `map` operation applies to a collection of size `n` with some type `A` and returns a collection of size `n` with the some type `B`.\n",
    "* the `filter` operation applies to a collection of size `n` with some type `A` and returns a List of size `m` with the same type `A` such that `m` $\\leq$ `n`.\n",
    "* the `fold` operation applies to a collection of size `n` with some type `A` and a default value of type `B` and returns something of type `B` (can be of any size)"
   ]
  },
  {
   "cell_type": "code",
   "execution_count": 25,
   "metadata": {},
   "outputs": [
    {
     "name": "stdout",
     "output_type": "stream",
     "text": [
      "It Worked!\n",
      "It Worked!\n",
      "It Worked!\n"
     ]
    },
    {
     "data": {
      "text/plain": [
       "defined \u001b[32mtrait\u001b[39m \u001b[36mMyList\u001b[39m\n",
       "defined \u001b[32mobject\u001b[39m \u001b[36mMyNil\u001b[39m\n",
       "defined \u001b[32mclass\u001b[39m \u001b[36mMyCons\u001b[39m\n",
       "\u001b[36ml0\u001b[39m: \u001b[32mMyCons\u001b[39m = \u001b[33mMyCons\u001b[39m(h = \u001b[32m5\u001b[39m, t = \u001b[33mMyCons\u001b[39m(h = \u001b[32m10\u001b[39m, t = MyNil))\n",
       "\u001b[36ml0SumExpected\u001b[39m: \u001b[32mInt\u001b[39m = \u001b[32m15\u001b[39m\n",
       "\u001b[36ml0SumFound\u001b[39m: \u001b[32mInt\u001b[39m = \u001b[32m15\u001b[39m\n",
       "\u001b[36ml1\u001b[39m: \u001b[32mMyCons\u001b[39m = \u001b[33mMyCons\u001b[39m(h = \u001b[32m3\u001b[39m, t = \u001b[33mMyCons\u001b[39m(h = \u001b[32m15\u001b[39m, t = MyNil))\n",
       "\u001b[36ml1AllOddExpected\u001b[39m: \u001b[32mBoolean\u001b[39m = \u001b[32mtrue\u001b[39m\n",
       "\u001b[36ml1AllOddFound\u001b[39m: \u001b[32mBoolean\u001b[39m = \u001b[32mtrue\u001b[39m\n",
       "\u001b[36ml2\u001b[39m: \u001b[32mMyCons\u001b[39m = \u001b[33mMyCons\u001b[39m(h = \u001b[32m3\u001b[39m, t = \u001b[33mMyCons\u001b[39m(h = \u001b[32m10\u001b[39m, t = \u001b[33mMyCons\u001b[39m(h = \u001b[32m15\u001b[39m, t = MyNil)))\n",
       "\u001b[36ml2EvensOnly\u001b[39m: \u001b[32mMyCons\u001b[39m = \u001b[33mMyCons\u001b[39m(h = \u001b[32m10\u001b[39m, t = MyNil)\n",
       "\u001b[36ml2Doubled\u001b[39m: \u001b[32mMyCons\u001b[39m = \u001b[33mMyCons\u001b[39m(\n",
       "  h = \u001b[32m6\u001b[39m,\n",
       "  t = \u001b[33mMyCons\u001b[39m(h = \u001b[32m20\u001b[39m, t = \u001b[33mMyCons\u001b[39m(h = \u001b[32m30\u001b[39m, t = MyNil))\n",
       ")\n",
       "\u001b[36ml2DoubledOddsOnly\u001b[39m: \u001b[32mMyNil\u001b[39m.type = MyNil"
      ]
     },
     "execution_count": 25,
     "metadata": {},
     "output_type": "execute_result"
    }
   ],
   "source": [
    "// reference implementation for custom MyList\n",
    "sealed trait MyList {\n",
    "    \n",
    "    def map(f: Int => Int): MyList = this match {\n",
    "        case MyNil => this\n",
    "        case MyCons(h, t) => MyCons(f(h), t map f)\n",
    "    }\n",
    "    \n",
    "    def filter(f: Int => Boolean): MyList = this match {\n",
    "        case MyNil => this\n",
    "        case MyCons(h, t) if (f(h)) => MyCons(h, t filter f)\n",
    "        case MyCons(_, t) => t filter f\n",
    "    }\n",
    "    \n",
    "    // R can be any type\n",
    "    def foldLeft[R](acc: R)(f: (R, Int) => R): R = this match {\n",
    "        case MyNil => acc\n",
    "        case MyCons(h, t) => t.foldLeft(f(acc, h))(f)\n",
    "    }\n",
    "}\n",
    "case object MyNil extends MyList\n",
    "case class MyCons(h: Int, t: MyList) extends MyList\n",
    "\n",
    "\n",
    "\n",
    "// Here R is an Int\n",
    "val l0 = MyCons(5, MyCons(10, MyNil))\n",
    "val l0SumExpected = 15\n",
    "val l0SumFound = l0.foldLeft(0)({\n",
    "    (sumSoFar, currentData) => sumSoFar + currentData\n",
    "})\n",
    "assert(l0SumExpected == l0SumFound)\n",
    "println(\"It Worked!\")\n",
    "\n",
    "// here R is a Boolean\n",
    "val l1 = MyCons(3, MyCons(15, MyNil))\n",
    "val l1AllOddExpected = true\n",
    "val l1AllOddFound = l1.foldLeft(true)({\n",
    "    (allOddSoFar, currentData) => allOddSoFar && (currentData % 2 != 0)\n",
    "})\n",
    "assert(l1AllOddExpected == l1AllOddFound)\n",
    "println(\"It Worked!\")\n",
    "\n",
    "val l2 = MyCons(3, MyCons(10, MyCons(15, MyNil)))\n",
    "val l2EvensOnly = MyCons(10, MyNil)\n",
    "val l2Doubled = MyCons(6, MyCons(20, MyCons(30, MyNil)))\n",
    "val l2DoubledOddsOnly = MyNil\n",
    "assert(l2EvensOnly == (l2 filter { _ % 2 == 0 }))\n",
    "assert(l2Doubled == (l2 map { _ * 2 }))\n",
    "assert(l2DoubledOddsOnly == ((l2 map { _ * 2 }) filter { _ % 2 == 1 }))\n",
    "println(\"It Worked!\")"
   ]
  }
 ],
 "metadata": {
  "kernelspec": {
   "display_name": "Scala",
   "language": "scala",
   "name": "scala"
  },
  "language_info": {
   "codemirror_mode": "text/x-scala",
   "file_extension": ".sc",
   "mimetype": "text/x-scala",
   "name": "scala",
   "nbconvert_exporter": "script",
   "version": "2.13.10"
  }
 },
 "nbformat": 4,
 "nbformat_minor": 4
}
