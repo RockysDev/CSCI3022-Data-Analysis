{
 "cells": [
  {
   "cell_type": "markdown",
   "id": "de24ecff-b673-4051-8e25-ddbbebae9648",
   "metadata": {},
   "source": [
    "# CSCI 3155 Spring 2023\n",
    "# Recitation Week 3\n",
    "### Ref: Lecture 4: Inductive Definitions, Grammars, and Syntax Trees\n",
    "This week we will be doing pattern matching and inductive data structures, and get some practice using them."
   ]
  },
  {
   "cell_type": "markdown",
   "id": "c27ba0c9",
   "metadata": {},
   "source": [
    "# Pattern Matching\n",
    "Pattern matching is a control structure we will use many times in this class, especially when dealing with inductive structures.\n",
    "Let's see some of the ways we can use pattern matching."
   ]
  },
  {
   "cell_type": "markdown",
   "id": "32b61604-e8f0-43c1-b562-f2c2cdc91b56",
   "metadata": {},
   "source": [
    "# Exercise 1\n",
    "Let's write a function with pattern matching.\n",
    "The function `listOutput` takes in type `List[Int]` and returns a type `String`\n",
    "\n",
    "For a empty list output `\"Empty list\"`\n",
    "\n",
    "For a list with a single element output `\"The number is $n$\"`\n",
    "\n",
    "#### The first two cases are given, write the cases below\n",
    "\n",
    "For a list that has two elemtns output `\"The numbers are $n1$ and $n2$\"`\n",
    "\n",
    "For a list that has more than two elements output `\"Multiple numbers, with head being $n$\"`\n"
   ]
  },
  {
   "cell_type": "code",
   "execution_count": null,
   "id": "a0e6a4ba-98d2-4e39-8075-c1fc17b0312b",
   "metadata": {},
   "outputs": [],
   "source": [
    "def listOutput(myList: List[Int]): String ={\n",
    "    myList match {\n",
    "        case Nil => \"Empty list\"\n",
    "        case h :: Nil => s\"The number is $h\"\n",
    "        // Begin solution\n",
    "        case h :: t :: Nil => s\"The numbers are $h and $t\"\n",
    "        case h :: _ => \"Multiple numbers, with head being \" + h\n",
    "        // End solution\n",
    "    }\n",
    "}"
   ]
  },
  {
   "cell_type": "code",
   "execution_count": null,
   "id": "849c9e08",
   "metadata": {
    "scrolled": true
   },
   "outputs": [],
   "source": [
    "val list1Test = Nil\n",
    "val list2Test = 3 :: list1Test\n",
    "val list3Test = 2 :: 5 :: list2Test\n",
    "val list4Test = 10 :: list2Test\n",
    "assert(listOutput(list3Test) == \"Multiple numbers, with head being 2\")\n",
    "assert(listOutput(list4Test) == \"The numbers are 10 and 3\")"
   ]
  },
  {
   "cell_type": "markdown",
   "id": "d3893e67-7d71-4b81-a5ac-adcf6ac926c6",
   "metadata": {},
   "source": [
    "# Inductive data structures\n",
    "Pattern matching is particularly useful for interacting with inductive data structures.\n",
    "Consider the following example, a list of integers.  (This is similar to how `List`s are implemented in Scala.)\n",
    "\n",
    "$$\\begin{array}{ccccc}\n",
    "\\textbf{NumList} & \\rightarrow & Empty \\\\ &\\ |\\  & Cons(\\textbf{Num}, \\textbf{NumList}) \\\\\n",
    "\\textbf{Num} & \\rightarrow & 0 \\ |\\ 1\\ |\\ 2\\ |\\ 3\\ |\\ 4\\ |\\ \\cdots \\\\\n",
    "\\end{array}$$"
   ]
  },
  {
   "cell_type": "code",
   "execution_count": null,
   "id": "d157c23b-5191-4a13-872d-edbfb2e62742",
   "metadata": {},
   "outputs": [],
   "source": [
    "sealed trait NumList\n",
    "\n",
    "case object Empty extends NumList\n",
    "case class Cons(hd: Int, tl: NumList) extends NumList"
   ]
  },
  {
   "cell_type": "code",
   "execution_count": null,
   "id": "4df0a4c9-642c-4984-a211-f144f99dc586",
   "metadata": {},
   "outputs": [],
   "source": [
    "// example lists\n",
    "// using the :: (cons operator) and Nil cases\n",
    "val scalaList = 131 :: 3155 :: Nil\n",
    "// this is equivalent to using the List constructor\n",
    "scalaList == List(131, 3155)\n",
    "\n",
    "// the same list using our NumList data structure instead of the built in one\n",
    "val myNumList = Cons(131, Cons(3155, Empty))"
   ]
  },
  {
   "cell_type": "markdown",
   "id": "58b9d3f1-33ac-4516-8880-bb1c7f4f90c3",
   "metadata": {},
   "source": [
    "# Exercise 2\n",
    "For this exercise, consider a simple language representing arithmetic expressions.\n",
    "Given the grammer below, write the corresponding Scala code (assume $\\textbf{Num}$ can be represented by a Scala `Int` as in $\\textbf{NumList}$).\n",
    "\n",
    "$$\\begin{array}{ccccccccc}\n",
    "\\textbf{Expr} & \\rightarrow & Const(\\textbf{Num}) \\\\ &\\ |\\  & Plus(\\textbf{Expr}, \\textbf{Expr}) \\\\ &\\ |\\  & Minus(\\textbf{Expr}, \\textbf{Expr}) \\\\ &\\ |\\  & Times(\\textbf{Expr}, \\textbf{Expr}) \\\\\n",
    "\\textbf{Num} & \\rightarrow & 0 \\ |\\ 1\\ |\\ 2\\ |\\ 3\\ |\\ 4\\ |\\ \\cdots \\\\\n",
    "\\end{array}$$"
   ]
  },
  {
   "cell_type": "code",
   "execution_count": null,
   "id": "3d8e91a5-0d7a-4d19-bb74-10680a92e9ed",
   "metadata": {},
   "outputs": [],
   "source": [
    "// Begin Solution\n",
    "sealed trait Expr\n",
    "\n",
    "case class Const(n: Int) extends Expr\n",
    "case class Plus(e1: Expr, e2: Expr) extends Expr\n",
    "case class Minus(e1: Expr, e2: Expr) extends Expr\n",
    "case class Times(e1: Expr, e2: Expr) extends Expr\n",
    "// end solution"
   ]
  },
  {
   "cell_type": "code",
   "execution_count": null,
   "id": "4ee5050b-58d9-4987-b709-231bd73a33fa",
   "metadata": {},
   "outputs": [],
   "source": [
    "// expressions using our new grammer\n",
    "val myExpr0 = Const(0)\n",
    "val myExpr1 = Plus(Const(500), Const(131)) // 500 + 131\n",
    "val myExpr2 = Times(myExpr1, Minus(Const(105), Const(100))) // (500+131)*(105-100)"
   ]
  },
  {
   "cell_type": "code",
   "execution_count": null,
   "id": "e401455a-8282-4a61-9ba8-6e19b4b739e2",
   "metadata": {},
   "outputs": [],
   "source": [
    "// Come up with your own example\n",
    "val myExpr3 = Const(42) // Const(42) or just anything else"
   ]
  },
  {
   "cell_type": "markdown",
   "id": "1080b6f8-dea6-4365-9a87-e5050736ec5a",
   "metadata": {},
   "source": [
    "Now that we have our implementation of the grammer, we can write functions using this implementation.\n",
    "We will often want to pattern match on the different cases of our grammer when writing these functions, as in the example below.\n",
    "\n",
    "#### Our goal is to get the constants in the expression \n",
    "\n",
    "Ex. constVals(Const(10)) return List(10)"
   ]
  },
  {
   "cell_type": "code",
   "execution_count": null,
   "id": "81ea721f-dd57-4315-9246-453a3eb00656",
   "metadata": {},
   "outputs": [],
   "source": [
    "// Get the constants in an expression\n",
    "def constVals(e: Expr): List[Int] = {\n",
    "    e match {\n",
    "        case Const(n) => n :: Nil // or List(n)\n",
    "        case Plus(e1, e2) => constVals(e1) ++ constVals(e2)\n",
    "        case Minus(e1, e2) => constVals(e1) ++ constVals(e2)\n",
    "        case Times(e1, e2) => constVals(e1) ++ constVals(e2)\n",
    "    }\n",
    "}"
   ]
  },
  {
   "cell_type": "code",
   "execution_count": null,
   "id": "9949fe79-6d32-4cd7-9eec-493be6ba9b77",
   "metadata": {},
   "outputs": [],
   "source": [
    "constVals(myExpr0)\n",
    "constVals(myExpr2)\n",
    "constVals(myExpr3)"
   ]
  },
  {
   "cell_type": "markdown",
   "id": "6cce1739-3339-4073-b23b-7e10a12e1a2a",
   "metadata": {},
   "source": [
    "# Exercise 3\n",
    "## Eval\n",
    "Given an expression, can we compute the corresponding value?\n",
    "Can we write a function to compute the value (evaluate the expression)?\n",
    "\n",
    "Write cases for `Const`, `Plus`, `Minus`, and `Times`"
   ]
  },
  {
   "cell_type": "code",
   "execution_count": null,
   "id": "9324a6af-8b78-44a6-b513-dacd80c3a598",
   "metadata": {},
   "outputs": [],
   "source": [
    "def eval(e: Expr): Int = {\n",
    "    // Begin Solution\n",
    "    e match {\n",
    "        case Const(n) => n\n",
    "        case Plus (e1, e2) => eval(e1) + eval(e2)\n",
    "        case Minus(e1, e2) => eval(e1) - eval(e2)\n",
    "        case Times(e1, e2) => eval(e1) * eval(e2)\n",
    "    }\n",
    "    // End Solution\n",
    "}"
   ]
  },
  {
   "cell_type": "code",
   "execution_count": null,
   "id": "92a6f393-95ab-4b03-9a09-7ed43e106f46",
   "metadata": {},
   "outputs": [],
   "source": [
    "// test cases\n",
    "eval(Const(42)) == 42\n",
    "eval(myExpr0) == 0 // 0\n",
    "eval(myExpr1) == 631 // 500 + 131\n",
    "eval(myExpr2) == 3155 // (500+131)*(105-100)\n",
    "eval(myExpr3)"
   ]
  },
  {
   "cell_type": "markdown",
   "id": "74e90f72-d434-4925-be9b-589ebf6cd3a9",
   "metadata": {},
   "source": [
    "### Bonus\n",
    "\n",
    "How would you add division or identifiers/variables to the Expr trait?\n",
    "\n",
    "We will look at this more in the future, but thinking through this is a good way to practice.\n",
    "(Hint: start by expanding the grammar and adding another case for the Expr trait.)"
   ]
  }
 ],
 "metadata": {
  "kernelspec": {
   "display_name": "Scala",
   "language": "scala",
   "name": "scala"
  },
  "language_info": {
   "codemirror_mode": "text/x-scala",
   "file_extension": ".scala",
   "mimetype": "text/x-scala",
   "name": "scala",
   "nbconvert_exporter": "script",
   "version": "2.12.11"
  }
 },
 "nbformat": 4,
 "nbformat_minor": 5
}
